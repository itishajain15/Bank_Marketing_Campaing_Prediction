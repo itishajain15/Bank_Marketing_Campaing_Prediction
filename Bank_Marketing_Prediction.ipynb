{
  "nbformat": 4,
  "nbformat_minor": 0,
  "metadata": {
    "colab": {
      "name": "Bank Marketing Prediction.ipynb",
      "provenance": [],
      "authorship_tag": "ABX9TyPRCW212OwvDdyj+BYyJYP4",
      "include_colab_link": true
    },
    "kernelspec": {
      "name": "python3",
      "display_name": "Python 3"
    },
    "language_info": {
      "name": "python"
    }
  },
  "cells": [
    {
      "cell_type": "markdown",
      "metadata": {
        "id": "view-in-github",
        "colab_type": "text"
      },
      "source": [
        "<a href=\"https://colab.research.google.com/github/itishajain15/Bank_Marketing_Effectiveness_Prediction/blob/main/Bank_Marketing_Prediction.ipynb\" target=\"_parent\"><img src=\"https://colab.research.google.com/assets/colab-badge.svg\" alt=\"Open In Colab\"/></a>"
      ]
    },
    {
      "cell_type": "markdown",
      "metadata": {
        "id": "tOGC-qoyhJeX"
      },
      "source": [
        "# <b><u> Project Title : Predicting the effectiveness of bank marketing campaigns </u></b>"
      ]
    },
    {
      "cell_type": "code",
      "execution_count": 1,
      "metadata": {
        "id": "dByMsuzT8Tnw"
      },
      "outputs": [],
      "source": [
        "#importing libraries\n",
        "import numpy as np\n",
        "import pandas as pd\n",
        "import matplotlib.pyplot as plt\n",
        "import seaborn as sns\n",
        "%matplotlib inline\n",
        "import warnings\n",
        "warnings.filterwarnings('ignore')"
      ]
    },
    {
      "cell_type": "code",
      "execution_count": 2,
      "metadata": {
        "colab": {
          "base_uri": "https://localhost:8080/"
        },
        "id": "vpFGobBE69_B",
        "outputId": "6b917ab8-dded-434a-8b15-07e5fe7e7c43"
      },
      "outputs": [
        {
          "output_type": "stream",
          "name": "stdout",
          "text": [
            "Mounted at /content/drive\n"
          ]
        }
      ],
      "source": [
        "#mounting google drive\n",
        "from google.colab import drive\n",
        "drive.mount('/content/drive')"
      ]
    },
    {
      "cell_type": "code",
      "execution_count": 3,
      "metadata": {
        "id": "nZEkV1We66Ty"
      },
      "outputs": [],
      "source": [
        "#Loading the dataset\n",
        "df=pd.read_csv(\"/content/drive/MyDrive/Almabetter Notes/bank-full.csv\",delimiter=';')\n"
      ]
    },
    {
      "cell_type": "markdown",
      "metadata": {
        "id": "ID1Ojl6gXxvu"
      },
      "source": [
        "# EDA"
      ]
    },
    {
      "cell_type": "code",
      "execution_count": 4,
      "metadata": {
        "colab": {
          "base_uri": "https://localhost:8080/"
        },
        "id": "mekFgCMU7Cuf",
        "outputId": "c463c04e-14c3-4b44-b6a9-38a210e69d22"
      },
      "outputs": [
        {
          "output_type": "execute_result",
          "data": {
            "text/plain": [
              "(45211, 17)"
            ]
          },
          "metadata": {},
          "execution_count": 4
        }
      ],
      "source": [
        "#number of rows and columns\n",
        "df.shape"
      ]
    },
    {
      "cell_type": "markdown",
      "source": [
        "There are 45211 rows and 17 columns in our dataset."
      ],
      "metadata": {
        "id": "XEe5gPENJ8kt"
      }
    },
    {
      "cell_type": "code",
      "execution_count": 5,
      "metadata": {
        "colab": {
          "base_uri": "https://localhost:8080/",
          "height": 206
        },
        "id": "POaa5Ixd7XaI",
        "outputId": "774fa4f7-36fc-4677-c8b2-68e4dd5ae07f"
      },
      "outputs": [
        {
          "output_type": "execute_result",
          "data": {
            "text/plain": [
              "   age           job  marital  education default  balance housing loan  \\\n",
              "0   58    management  married   tertiary      no     2143     yes   no   \n",
              "1   44    technician   single  secondary      no       29     yes   no   \n",
              "2   33  entrepreneur  married  secondary      no        2     yes  yes   \n",
              "3   47   blue-collar  married    unknown      no     1506     yes   no   \n",
              "4   33       unknown   single    unknown      no        1      no   no   \n",
              "\n",
              "   contact  day month  duration  campaign  pdays  previous poutcome   y  \n",
              "0  unknown    5   may       261         1     -1         0  unknown  no  \n",
              "1  unknown    5   may       151         1     -1         0  unknown  no  \n",
              "2  unknown    5   may        76         1     -1         0  unknown  no  \n",
              "3  unknown    5   may        92         1     -1         0  unknown  no  \n",
              "4  unknown    5   may       198         1     -1         0  unknown  no  "
            ],
            "text/html": [
              "\n",
              "  <div id=\"df-18974755-5718-4ed3-8c3d-0e788f1755be\">\n",
              "    <div class=\"colab-df-container\">\n",
              "      <div>\n",
              "<style scoped>\n",
              "    .dataframe tbody tr th:only-of-type {\n",
              "        vertical-align: middle;\n",
              "    }\n",
              "\n",
              "    .dataframe tbody tr th {\n",
              "        vertical-align: top;\n",
              "    }\n",
              "\n",
              "    .dataframe thead th {\n",
              "        text-align: right;\n",
              "    }\n",
              "</style>\n",
              "<table border=\"1\" class=\"dataframe\">\n",
              "  <thead>\n",
              "    <tr style=\"text-align: right;\">\n",
              "      <th></th>\n",
              "      <th>age</th>\n",
              "      <th>job</th>\n",
              "      <th>marital</th>\n",
              "      <th>education</th>\n",
              "      <th>default</th>\n",
              "      <th>balance</th>\n",
              "      <th>housing</th>\n",
              "      <th>loan</th>\n",
              "      <th>contact</th>\n",
              "      <th>day</th>\n",
              "      <th>month</th>\n",
              "      <th>duration</th>\n",
              "      <th>campaign</th>\n",
              "      <th>pdays</th>\n",
              "      <th>previous</th>\n",
              "      <th>poutcome</th>\n",
              "      <th>y</th>\n",
              "    </tr>\n",
              "  </thead>\n",
              "  <tbody>\n",
              "    <tr>\n",
              "      <th>0</th>\n",
              "      <td>58</td>\n",
              "      <td>management</td>\n",
              "      <td>married</td>\n",
              "      <td>tertiary</td>\n",
              "      <td>no</td>\n",
              "      <td>2143</td>\n",
              "      <td>yes</td>\n",
              "      <td>no</td>\n",
              "      <td>unknown</td>\n",
              "      <td>5</td>\n",
              "      <td>may</td>\n",
              "      <td>261</td>\n",
              "      <td>1</td>\n",
              "      <td>-1</td>\n",
              "      <td>0</td>\n",
              "      <td>unknown</td>\n",
              "      <td>no</td>\n",
              "    </tr>\n",
              "    <tr>\n",
              "      <th>1</th>\n",
              "      <td>44</td>\n",
              "      <td>technician</td>\n",
              "      <td>single</td>\n",
              "      <td>secondary</td>\n",
              "      <td>no</td>\n",
              "      <td>29</td>\n",
              "      <td>yes</td>\n",
              "      <td>no</td>\n",
              "      <td>unknown</td>\n",
              "      <td>5</td>\n",
              "      <td>may</td>\n",
              "      <td>151</td>\n",
              "      <td>1</td>\n",
              "      <td>-1</td>\n",
              "      <td>0</td>\n",
              "      <td>unknown</td>\n",
              "      <td>no</td>\n",
              "    </tr>\n",
              "    <tr>\n",
              "      <th>2</th>\n",
              "      <td>33</td>\n",
              "      <td>entrepreneur</td>\n",
              "      <td>married</td>\n",
              "      <td>secondary</td>\n",
              "      <td>no</td>\n",
              "      <td>2</td>\n",
              "      <td>yes</td>\n",
              "      <td>yes</td>\n",
              "      <td>unknown</td>\n",
              "      <td>5</td>\n",
              "      <td>may</td>\n",
              "      <td>76</td>\n",
              "      <td>1</td>\n",
              "      <td>-1</td>\n",
              "      <td>0</td>\n",
              "      <td>unknown</td>\n",
              "      <td>no</td>\n",
              "    </tr>\n",
              "    <tr>\n",
              "      <th>3</th>\n",
              "      <td>47</td>\n",
              "      <td>blue-collar</td>\n",
              "      <td>married</td>\n",
              "      <td>unknown</td>\n",
              "      <td>no</td>\n",
              "      <td>1506</td>\n",
              "      <td>yes</td>\n",
              "      <td>no</td>\n",
              "      <td>unknown</td>\n",
              "      <td>5</td>\n",
              "      <td>may</td>\n",
              "      <td>92</td>\n",
              "      <td>1</td>\n",
              "      <td>-1</td>\n",
              "      <td>0</td>\n",
              "      <td>unknown</td>\n",
              "      <td>no</td>\n",
              "    </tr>\n",
              "    <tr>\n",
              "      <th>4</th>\n",
              "      <td>33</td>\n",
              "      <td>unknown</td>\n",
              "      <td>single</td>\n",
              "      <td>unknown</td>\n",
              "      <td>no</td>\n",
              "      <td>1</td>\n",
              "      <td>no</td>\n",
              "      <td>no</td>\n",
              "      <td>unknown</td>\n",
              "      <td>5</td>\n",
              "      <td>may</td>\n",
              "      <td>198</td>\n",
              "      <td>1</td>\n",
              "      <td>-1</td>\n",
              "      <td>0</td>\n",
              "      <td>unknown</td>\n",
              "      <td>no</td>\n",
              "    </tr>\n",
              "  </tbody>\n",
              "</table>\n",
              "</div>\n",
              "      <button class=\"colab-df-convert\" onclick=\"convertToInteractive('df-18974755-5718-4ed3-8c3d-0e788f1755be')\"\n",
              "              title=\"Convert this dataframe to an interactive table.\"\n",
              "              style=\"display:none;\">\n",
              "        \n",
              "  <svg xmlns=\"http://www.w3.org/2000/svg\" height=\"24px\"viewBox=\"0 0 24 24\"\n",
              "       width=\"24px\">\n",
              "    <path d=\"M0 0h24v24H0V0z\" fill=\"none\"/>\n",
              "    <path d=\"M18.56 5.44l.94 2.06.94-2.06 2.06-.94-2.06-.94-.94-2.06-.94 2.06-2.06.94zm-11 1L8.5 8.5l.94-2.06 2.06-.94-2.06-.94L8.5 2.5l-.94 2.06-2.06.94zm10 10l.94 2.06.94-2.06 2.06-.94-2.06-.94-.94-2.06-.94 2.06-2.06.94z\"/><path d=\"M17.41 7.96l-1.37-1.37c-.4-.4-.92-.59-1.43-.59-.52 0-1.04.2-1.43.59L10.3 9.45l-7.72 7.72c-.78.78-.78 2.05 0 2.83L4 21.41c.39.39.9.59 1.41.59.51 0 1.02-.2 1.41-.59l7.78-7.78 2.81-2.81c.8-.78.8-2.07 0-2.86zM5.41 20L4 18.59l7.72-7.72 1.47 1.35L5.41 20z\"/>\n",
              "  </svg>\n",
              "      </button>\n",
              "      \n",
              "  <style>\n",
              "    .colab-df-container {\n",
              "      display:flex;\n",
              "      flex-wrap:wrap;\n",
              "      gap: 12px;\n",
              "    }\n",
              "\n",
              "    .colab-df-convert {\n",
              "      background-color: #E8F0FE;\n",
              "      border: none;\n",
              "      border-radius: 50%;\n",
              "      cursor: pointer;\n",
              "      display: none;\n",
              "      fill: #1967D2;\n",
              "      height: 32px;\n",
              "      padding: 0 0 0 0;\n",
              "      width: 32px;\n",
              "    }\n",
              "\n",
              "    .colab-df-convert:hover {\n",
              "      background-color: #E2EBFA;\n",
              "      box-shadow: 0px 1px 2px rgba(60, 64, 67, 0.3), 0px 1px 3px 1px rgba(60, 64, 67, 0.15);\n",
              "      fill: #174EA6;\n",
              "    }\n",
              "\n",
              "    [theme=dark] .colab-df-convert {\n",
              "      background-color: #3B4455;\n",
              "      fill: #D2E3FC;\n",
              "    }\n",
              "\n",
              "    [theme=dark] .colab-df-convert:hover {\n",
              "      background-color: #434B5C;\n",
              "      box-shadow: 0px 1px 3px 1px rgba(0, 0, 0, 0.15);\n",
              "      filter: drop-shadow(0px 1px 2px rgba(0, 0, 0, 0.3));\n",
              "      fill: #FFFFFF;\n",
              "    }\n",
              "  </style>\n",
              "\n",
              "      <script>\n",
              "        const buttonEl =\n",
              "          document.querySelector('#df-18974755-5718-4ed3-8c3d-0e788f1755be button.colab-df-convert');\n",
              "        buttonEl.style.display =\n",
              "          google.colab.kernel.accessAllowed ? 'block' : 'none';\n",
              "\n",
              "        async function convertToInteractive(key) {\n",
              "          const element = document.querySelector('#df-18974755-5718-4ed3-8c3d-0e788f1755be');\n",
              "          const dataTable =\n",
              "            await google.colab.kernel.invokeFunction('convertToInteractive',\n",
              "                                                     [key], {});\n",
              "          if (!dataTable) return;\n",
              "\n",
              "          const docLinkHtml = 'Like what you see? Visit the ' +\n",
              "            '<a target=\"_blank\" href=https://colab.research.google.com/notebooks/data_table.ipynb>data table notebook</a>'\n",
              "            + ' to learn more about interactive tables.';\n",
              "          element.innerHTML = '';\n",
              "          dataTable['output_type'] = 'display_data';\n",
              "          await google.colab.output.renderOutput(dataTable, element);\n",
              "          const docLink = document.createElement('div');\n",
              "          docLink.innerHTML = docLinkHtml;\n",
              "          element.appendChild(docLink);\n",
              "        }\n",
              "      </script>\n",
              "    </div>\n",
              "  </div>\n",
              "  "
            ]
          },
          "metadata": {},
          "execution_count": 5
        }
      ],
      "source": [
        "#first five rows\n",
        "df.head()"
      ]
    },
    {
      "cell_type": "code",
      "execution_count": 6,
      "metadata": {
        "colab": {
          "base_uri": "https://localhost:8080/",
          "height": 206
        },
        "id": "E8DHnXMK7YSQ",
        "outputId": "5e09eb6f-b11a-400f-ee78-48b9e12f7d6c"
      },
      "outputs": [
        {
          "output_type": "execute_result",
          "data": {
            "text/plain": [
              "       age           job   marital  education default  balance housing loan  \\\n",
              "45206   51    technician   married   tertiary      no      825      no   no   \n",
              "45207   71       retired  divorced    primary      no     1729      no   no   \n",
              "45208   72       retired   married  secondary      no     5715      no   no   \n",
              "45209   57   blue-collar   married  secondary      no      668      no   no   \n",
              "45210   37  entrepreneur   married  secondary      no     2971      no   no   \n",
              "\n",
              "         contact  day month  duration  campaign  pdays  previous poutcome    y  \n",
              "45206   cellular   17   nov       977         3     -1         0  unknown  yes  \n",
              "45207   cellular   17   nov       456         2     -1         0  unknown  yes  \n",
              "45208   cellular   17   nov      1127         5    184         3  success  yes  \n",
              "45209  telephone   17   nov       508         4     -1         0  unknown   no  \n",
              "45210   cellular   17   nov       361         2    188        11    other   no  "
            ],
            "text/html": [
              "\n",
              "  <div id=\"df-67274233-b935-4feb-84f6-c6f66a1ff874\">\n",
              "    <div class=\"colab-df-container\">\n",
              "      <div>\n",
              "<style scoped>\n",
              "    .dataframe tbody tr th:only-of-type {\n",
              "        vertical-align: middle;\n",
              "    }\n",
              "\n",
              "    .dataframe tbody tr th {\n",
              "        vertical-align: top;\n",
              "    }\n",
              "\n",
              "    .dataframe thead th {\n",
              "        text-align: right;\n",
              "    }\n",
              "</style>\n",
              "<table border=\"1\" class=\"dataframe\">\n",
              "  <thead>\n",
              "    <tr style=\"text-align: right;\">\n",
              "      <th></th>\n",
              "      <th>age</th>\n",
              "      <th>job</th>\n",
              "      <th>marital</th>\n",
              "      <th>education</th>\n",
              "      <th>default</th>\n",
              "      <th>balance</th>\n",
              "      <th>housing</th>\n",
              "      <th>loan</th>\n",
              "      <th>contact</th>\n",
              "      <th>day</th>\n",
              "      <th>month</th>\n",
              "      <th>duration</th>\n",
              "      <th>campaign</th>\n",
              "      <th>pdays</th>\n",
              "      <th>previous</th>\n",
              "      <th>poutcome</th>\n",
              "      <th>y</th>\n",
              "    </tr>\n",
              "  </thead>\n",
              "  <tbody>\n",
              "    <tr>\n",
              "      <th>45206</th>\n",
              "      <td>51</td>\n",
              "      <td>technician</td>\n",
              "      <td>married</td>\n",
              "      <td>tertiary</td>\n",
              "      <td>no</td>\n",
              "      <td>825</td>\n",
              "      <td>no</td>\n",
              "      <td>no</td>\n",
              "      <td>cellular</td>\n",
              "      <td>17</td>\n",
              "      <td>nov</td>\n",
              "      <td>977</td>\n",
              "      <td>3</td>\n",
              "      <td>-1</td>\n",
              "      <td>0</td>\n",
              "      <td>unknown</td>\n",
              "      <td>yes</td>\n",
              "    </tr>\n",
              "    <tr>\n",
              "      <th>45207</th>\n",
              "      <td>71</td>\n",
              "      <td>retired</td>\n",
              "      <td>divorced</td>\n",
              "      <td>primary</td>\n",
              "      <td>no</td>\n",
              "      <td>1729</td>\n",
              "      <td>no</td>\n",
              "      <td>no</td>\n",
              "      <td>cellular</td>\n",
              "      <td>17</td>\n",
              "      <td>nov</td>\n",
              "      <td>456</td>\n",
              "      <td>2</td>\n",
              "      <td>-1</td>\n",
              "      <td>0</td>\n",
              "      <td>unknown</td>\n",
              "      <td>yes</td>\n",
              "    </tr>\n",
              "    <tr>\n",
              "      <th>45208</th>\n",
              "      <td>72</td>\n",
              "      <td>retired</td>\n",
              "      <td>married</td>\n",
              "      <td>secondary</td>\n",
              "      <td>no</td>\n",
              "      <td>5715</td>\n",
              "      <td>no</td>\n",
              "      <td>no</td>\n",
              "      <td>cellular</td>\n",
              "      <td>17</td>\n",
              "      <td>nov</td>\n",
              "      <td>1127</td>\n",
              "      <td>5</td>\n",
              "      <td>184</td>\n",
              "      <td>3</td>\n",
              "      <td>success</td>\n",
              "      <td>yes</td>\n",
              "    </tr>\n",
              "    <tr>\n",
              "      <th>45209</th>\n",
              "      <td>57</td>\n",
              "      <td>blue-collar</td>\n",
              "      <td>married</td>\n",
              "      <td>secondary</td>\n",
              "      <td>no</td>\n",
              "      <td>668</td>\n",
              "      <td>no</td>\n",
              "      <td>no</td>\n",
              "      <td>telephone</td>\n",
              "      <td>17</td>\n",
              "      <td>nov</td>\n",
              "      <td>508</td>\n",
              "      <td>4</td>\n",
              "      <td>-1</td>\n",
              "      <td>0</td>\n",
              "      <td>unknown</td>\n",
              "      <td>no</td>\n",
              "    </tr>\n",
              "    <tr>\n",
              "      <th>45210</th>\n",
              "      <td>37</td>\n",
              "      <td>entrepreneur</td>\n",
              "      <td>married</td>\n",
              "      <td>secondary</td>\n",
              "      <td>no</td>\n",
              "      <td>2971</td>\n",
              "      <td>no</td>\n",
              "      <td>no</td>\n",
              "      <td>cellular</td>\n",
              "      <td>17</td>\n",
              "      <td>nov</td>\n",
              "      <td>361</td>\n",
              "      <td>2</td>\n",
              "      <td>188</td>\n",
              "      <td>11</td>\n",
              "      <td>other</td>\n",
              "      <td>no</td>\n",
              "    </tr>\n",
              "  </tbody>\n",
              "</table>\n",
              "</div>\n",
              "      <button class=\"colab-df-convert\" onclick=\"convertToInteractive('df-67274233-b935-4feb-84f6-c6f66a1ff874')\"\n",
              "              title=\"Convert this dataframe to an interactive table.\"\n",
              "              style=\"display:none;\">\n",
              "        \n",
              "  <svg xmlns=\"http://www.w3.org/2000/svg\" height=\"24px\"viewBox=\"0 0 24 24\"\n",
              "       width=\"24px\">\n",
              "    <path d=\"M0 0h24v24H0V0z\" fill=\"none\"/>\n",
              "    <path d=\"M18.56 5.44l.94 2.06.94-2.06 2.06-.94-2.06-.94-.94-2.06-.94 2.06-2.06.94zm-11 1L8.5 8.5l.94-2.06 2.06-.94-2.06-.94L8.5 2.5l-.94 2.06-2.06.94zm10 10l.94 2.06.94-2.06 2.06-.94-2.06-.94-.94-2.06-.94 2.06-2.06.94z\"/><path d=\"M17.41 7.96l-1.37-1.37c-.4-.4-.92-.59-1.43-.59-.52 0-1.04.2-1.43.59L10.3 9.45l-7.72 7.72c-.78.78-.78 2.05 0 2.83L4 21.41c.39.39.9.59 1.41.59.51 0 1.02-.2 1.41-.59l7.78-7.78 2.81-2.81c.8-.78.8-2.07 0-2.86zM5.41 20L4 18.59l7.72-7.72 1.47 1.35L5.41 20z\"/>\n",
              "  </svg>\n",
              "      </button>\n",
              "      \n",
              "  <style>\n",
              "    .colab-df-container {\n",
              "      display:flex;\n",
              "      flex-wrap:wrap;\n",
              "      gap: 12px;\n",
              "    }\n",
              "\n",
              "    .colab-df-convert {\n",
              "      background-color: #E8F0FE;\n",
              "      border: none;\n",
              "      border-radius: 50%;\n",
              "      cursor: pointer;\n",
              "      display: none;\n",
              "      fill: #1967D2;\n",
              "      height: 32px;\n",
              "      padding: 0 0 0 0;\n",
              "      width: 32px;\n",
              "    }\n",
              "\n",
              "    .colab-df-convert:hover {\n",
              "      background-color: #E2EBFA;\n",
              "      box-shadow: 0px 1px 2px rgba(60, 64, 67, 0.3), 0px 1px 3px 1px rgba(60, 64, 67, 0.15);\n",
              "      fill: #174EA6;\n",
              "    }\n",
              "\n",
              "    [theme=dark] .colab-df-convert {\n",
              "      background-color: #3B4455;\n",
              "      fill: #D2E3FC;\n",
              "    }\n",
              "\n",
              "    [theme=dark] .colab-df-convert:hover {\n",
              "      background-color: #434B5C;\n",
              "      box-shadow: 0px 1px 3px 1px rgba(0, 0, 0, 0.15);\n",
              "      filter: drop-shadow(0px 1px 2px rgba(0, 0, 0, 0.3));\n",
              "      fill: #FFFFFF;\n",
              "    }\n",
              "  </style>\n",
              "\n",
              "      <script>\n",
              "        const buttonEl =\n",
              "          document.querySelector('#df-67274233-b935-4feb-84f6-c6f66a1ff874 button.colab-df-convert');\n",
              "        buttonEl.style.display =\n",
              "          google.colab.kernel.accessAllowed ? 'block' : 'none';\n",
              "\n",
              "        async function convertToInteractive(key) {\n",
              "          const element = document.querySelector('#df-67274233-b935-4feb-84f6-c6f66a1ff874');\n",
              "          const dataTable =\n",
              "            await google.colab.kernel.invokeFunction('convertToInteractive',\n",
              "                                                     [key], {});\n",
              "          if (!dataTable) return;\n",
              "\n",
              "          const docLinkHtml = 'Like what you see? Visit the ' +\n",
              "            '<a target=\"_blank\" href=https://colab.research.google.com/notebooks/data_table.ipynb>data table notebook</a>'\n",
              "            + ' to learn more about interactive tables.';\n",
              "          element.innerHTML = '';\n",
              "          dataTable['output_type'] = 'display_data';\n",
              "          await google.colab.output.renderOutput(dataTable, element);\n",
              "          const docLink = document.createElement('div');\n",
              "          docLink.innerHTML = docLinkHtml;\n",
              "          element.appendChild(docLink);\n",
              "        }\n",
              "      </script>\n",
              "    </div>\n",
              "  </div>\n",
              "  "
            ]
          },
          "metadata": {},
          "execution_count": 6
        }
      ],
      "source": [
        "#last five rows\n",
        "df.tail()"
      ]
    },
    {
      "cell_type": "code",
      "execution_count": 7,
      "metadata": {
        "colab": {
          "base_uri": "https://localhost:8080/",
          "height": 206
        },
        "id": "y2v8I1687zD0",
        "outputId": "088cdb34-3f5c-4934-a350-3ddc07890d1d"
      },
      "outputs": [
        {
          "output_type": "execute_result",
          "data": {
            "text/plain": [
              "       age         job   marital  education default  balance housing loan  \\\n",
              "7902    39    services    single  secondary      no     -189     yes   no   \n",
              "13408   53     retired    single   tertiary      no      888     yes   no   \n",
              "39923   40  technician   married  secondary      no     4298      no   no   \n",
              "18163   46  unemployed  divorced  secondary      no        0      no   no   \n",
              "20287   30  management    single   tertiary      no      725      no   no   \n",
              "\n",
              "        contact  day month  duration  campaign  pdays  previous poutcome   y  \n",
              "7902    unknown   30   may        76         9     -1         0  unknown  no  \n",
              "13408  cellular    9   jul       128         1     -1         0  unknown  no  \n",
              "39923  cellular    2   jun       221         1     -1         0  unknown  no  \n",
              "18163  cellular   30   jul       638         3     -1         0  unknown  no  \n",
              "20287  cellular   11   aug        69         4     -1         0  unknown  no  "
            ],
            "text/html": [
              "\n",
              "  <div id=\"df-9797fc05-48c1-402f-b252-c11f48d7e5b9\">\n",
              "    <div class=\"colab-df-container\">\n",
              "      <div>\n",
              "<style scoped>\n",
              "    .dataframe tbody tr th:only-of-type {\n",
              "        vertical-align: middle;\n",
              "    }\n",
              "\n",
              "    .dataframe tbody tr th {\n",
              "        vertical-align: top;\n",
              "    }\n",
              "\n",
              "    .dataframe thead th {\n",
              "        text-align: right;\n",
              "    }\n",
              "</style>\n",
              "<table border=\"1\" class=\"dataframe\">\n",
              "  <thead>\n",
              "    <tr style=\"text-align: right;\">\n",
              "      <th></th>\n",
              "      <th>age</th>\n",
              "      <th>job</th>\n",
              "      <th>marital</th>\n",
              "      <th>education</th>\n",
              "      <th>default</th>\n",
              "      <th>balance</th>\n",
              "      <th>housing</th>\n",
              "      <th>loan</th>\n",
              "      <th>contact</th>\n",
              "      <th>day</th>\n",
              "      <th>month</th>\n",
              "      <th>duration</th>\n",
              "      <th>campaign</th>\n",
              "      <th>pdays</th>\n",
              "      <th>previous</th>\n",
              "      <th>poutcome</th>\n",
              "      <th>y</th>\n",
              "    </tr>\n",
              "  </thead>\n",
              "  <tbody>\n",
              "    <tr>\n",
              "      <th>7902</th>\n",
              "      <td>39</td>\n",
              "      <td>services</td>\n",
              "      <td>single</td>\n",
              "      <td>secondary</td>\n",
              "      <td>no</td>\n",
              "      <td>-189</td>\n",
              "      <td>yes</td>\n",
              "      <td>no</td>\n",
              "      <td>unknown</td>\n",
              "      <td>30</td>\n",
              "      <td>may</td>\n",
              "      <td>76</td>\n",
              "      <td>9</td>\n",
              "      <td>-1</td>\n",
              "      <td>0</td>\n",
              "      <td>unknown</td>\n",
              "      <td>no</td>\n",
              "    </tr>\n",
              "    <tr>\n",
              "      <th>13408</th>\n",
              "      <td>53</td>\n",
              "      <td>retired</td>\n",
              "      <td>single</td>\n",
              "      <td>tertiary</td>\n",
              "      <td>no</td>\n",
              "      <td>888</td>\n",
              "      <td>yes</td>\n",
              "      <td>no</td>\n",
              "      <td>cellular</td>\n",
              "      <td>9</td>\n",
              "      <td>jul</td>\n",
              "      <td>128</td>\n",
              "      <td>1</td>\n",
              "      <td>-1</td>\n",
              "      <td>0</td>\n",
              "      <td>unknown</td>\n",
              "      <td>no</td>\n",
              "    </tr>\n",
              "    <tr>\n",
              "      <th>39923</th>\n",
              "      <td>40</td>\n",
              "      <td>technician</td>\n",
              "      <td>married</td>\n",
              "      <td>secondary</td>\n",
              "      <td>no</td>\n",
              "      <td>4298</td>\n",
              "      <td>no</td>\n",
              "      <td>no</td>\n",
              "      <td>cellular</td>\n",
              "      <td>2</td>\n",
              "      <td>jun</td>\n",
              "      <td>221</td>\n",
              "      <td>1</td>\n",
              "      <td>-1</td>\n",
              "      <td>0</td>\n",
              "      <td>unknown</td>\n",
              "      <td>no</td>\n",
              "    </tr>\n",
              "    <tr>\n",
              "      <th>18163</th>\n",
              "      <td>46</td>\n",
              "      <td>unemployed</td>\n",
              "      <td>divorced</td>\n",
              "      <td>secondary</td>\n",
              "      <td>no</td>\n",
              "      <td>0</td>\n",
              "      <td>no</td>\n",
              "      <td>no</td>\n",
              "      <td>cellular</td>\n",
              "      <td>30</td>\n",
              "      <td>jul</td>\n",
              "      <td>638</td>\n",
              "      <td>3</td>\n",
              "      <td>-1</td>\n",
              "      <td>0</td>\n",
              "      <td>unknown</td>\n",
              "      <td>no</td>\n",
              "    </tr>\n",
              "    <tr>\n",
              "      <th>20287</th>\n",
              "      <td>30</td>\n",
              "      <td>management</td>\n",
              "      <td>single</td>\n",
              "      <td>tertiary</td>\n",
              "      <td>no</td>\n",
              "      <td>725</td>\n",
              "      <td>no</td>\n",
              "      <td>no</td>\n",
              "      <td>cellular</td>\n",
              "      <td>11</td>\n",
              "      <td>aug</td>\n",
              "      <td>69</td>\n",
              "      <td>4</td>\n",
              "      <td>-1</td>\n",
              "      <td>0</td>\n",
              "      <td>unknown</td>\n",
              "      <td>no</td>\n",
              "    </tr>\n",
              "  </tbody>\n",
              "</table>\n",
              "</div>\n",
              "      <button class=\"colab-df-convert\" onclick=\"convertToInteractive('df-9797fc05-48c1-402f-b252-c11f48d7e5b9')\"\n",
              "              title=\"Convert this dataframe to an interactive table.\"\n",
              "              style=\"display:none;\">\n",
              "        \n",
              "  <svg xmlns=\"http://www.w3.org/2000/svg\" height=\"24px\"viewBox=\"0 0 24 24\"\n",
              "       width=\"24px\">\n",
              "    <path d=\"M0 0h24v24H0V0z\" fill=\"none\"/>\n",
              "    <path d=\"M18.56 5.44l.94 2.06.94-2.06 2.06-.94-2.06-.94-.94-2.06-.94 2.06-2.06.94zm-11 1L8.5 8.5l.94-2.06 2.06-.94-2.06-.94L8.5 2.5l-.94 2.06-2.06.94zm10 10l.94 2.06.94-2.06 2.06-.94-2.06-.94-.94-2.06-.94 2.06-2.06.94z\"/><path d=\"M17.41 7.96l-1.37-1.37c-.4-.4-.92-.59-1.43-.59-.52 0-1.04.2-1.43.59L10.3 9.45l-7.72 7.72c-.78.78-.78 2.05 0 2.83L4 21.41c.39.39.9.59 1.41.59.51 0 1.02-.2 1.41-.59l7.78-7.78 2.81-2.81c.8-.78.8-2.07 0-2.86zM5.41 20L4 18.59l7.72-7.72 1.47 1.35L5.41 20z\"/>\n",
              "  </svg>\n",
              "      </button>\n",
              "      \n",
              "  <style>\n",
              "    .colab-df-container {\n",
              "      display:flex;\n",
              "      flex-wrap:wrap;\n",
              "      gap: 12px;\n",
              "    }\n",
              "\n",
              "    .colab-df-convert {\n",
              "      background-color: #E8F0FE;\n",
              "      border: none;\n",
              "      border-radius: 50%;\n",
              "      cursor: pointer;\n",
              "      display: none;\n",
              "      fill: #1967D2;\n",
              "      height: 32px;\n",
              "      padding: 0 0 0 0;\n",
              "      width: 32px;\n",
              "    }\n",
              "\n",
              "    .colab-df-convert:hover {\n",
              "      background-color: #E2EBFA;\n",
              "      box-shadow: 0px 1px 2px rgba(60, 64, 67, 0.3), 0px 1px 3px 1px rgba(60, 64, 67, 0.15);\n",
              "      fill: #174EA6;\n",
              "    }\n",
              "\n",
              "    [theme=dark] .colab-df-convert {\n",
              "      background-color: #3B4455;\n",
              "      fill: #D2E3FC;\n",
              "    }\n",
              "\n",
              "    [theme=dark] .colab-df-convert:hover {\n",
              "      background-color: #434B5C;\n",
              "      box-shadow: 0px 1px 3px 1px rgba(0, 0, 0, 0.15);\n",
              "      filter: drop-shadow(0px 1px 2px rgba(0, 0, 0, 0.3));\n",
              "      fill: #FFFFFF;\n",
              "    }\n",
              "  </style>\n",
              "\n",
              "      <script>\n",
              "        const buttonEl =\n",
              "          document.querySelector('#df-9797fc05-48c1-402f-b252-c11f48d7e5b9 button.colab-df-convert');\n",
              "        buttonEl.style.display =\n",
              "          google.colab.kernel.accessAllowed ? 'block' : 'none';\n",
              "\n",
              "        async function convertToInteractive(key) {\n",
              "          const element = document.querySelector('#df-9797fc05-48c1-402f-b252-c11f48d7e5b9');\n",
              "          const dataTable =\n",
              "            await google.colab.kernel.invokeFunction('convertToInteractive',\n",
              "                                                     [key], {});\n",
              "          if (!dataTable) return;\n",
              "\n",
              "          const docLinkHtml = 'Like what you see? Visit the ' +\n",
              "            '<a target=\"_blank\" href=https://colab.research.google.com/notebooks/data_table.ipynb>data table notebook</a>'\n",
              "            + ' to learn more about interactive tables.';\n",
              "          element.innerHTML = '';\n",
              "          dataTable['output_type'] = 'display_data';\n",
              "          await google.colab.output.renderOutput(dataTable, element);\n",
              "          const docLink = document.createElement('div');\n",
              "          docLink.innerHTML = docLinkHtml;\n",
              "          element.appendChild(docLink);\n",
              "        }\n",
              "      </script>\n",
              "    </div>\n",
              "  </div>\n",
              "  "
            ]
          },
          "metadata": {},
          "execution_count": 7
        }
      ],
      "source": [
        "#random five rows\n",
        "df.sample(5)"
      ]
    },
    {
      "cell_type": "code",
      "execution_count": 9,
      "metadata": {
        "colab": {
          "base_uri": "https://localhost:8080/"
        },
        "id": "-1VHFc8570ZR",
        "outputId": "d2e6dac1-73fd-4557-80e3-f4c527a32970"
      },
      "outputs": [
        {
          "output_type": "stream",
          "name": "stdout",
          "text": [
            "<class 'pandas.core.frame.DataFrame'>\n",
            "RangeIndex: 45211 entries, 0 to 45210\n",
            "Data columns (total 17 columns):\n",
            " #   Column     Non-Null Count  Dtype \n",
            "---  ------     --------------  ----- \n",
            " 0   age        45211 non-null  int64 \n",
            " 1   job        45211 non-null  object\n",
            " 2   marital    45211 non-null  object\n",
            " 3   education  45211 non-null  object\n",
            " 4   default    45211 non-null  object\n",
            " 5   balance    45211 non-null  int64 \n",
            " 6   housing    45211 non-null  object\n",
            " 7   loan       45211 non-null  object\n",
            " 8   contact    45211 non-null  object\n",
            " 9   day        45211 non-null  int64 \n",
            " 10  month      45211 non-null  object\n",
            " 11  duration   45211 non-null  int64 \n",
            " 12  campaign   45211 non-null  int64 \n",
            " 13  pdays      45211 non-null  int64 \n",
            " 14  previous   45211 non-null  int64 \n",
            " 15  poutcome   45211 non-null  object\n",
            " 16  y          45211 non-null  object\n",
            "dtypes: int64(7), object(10)\n",
            "memory usage: 5.9+ MB\n"
          ]
        }
      ],
      "source": [
        "#Looking for data type of the varaibles\n",
        "df.info()"
      ]
    },
    {
      "cell_type": "code",
      "execution_count": 10,
      "metadata": {
        "colab": {
          "base_uri": "https://localhost:8080/"
        },
        "id": "M85seq2N73uo",
        "outputId": "025c4dc7-829b-4349-a6cd-0f88a68c80e8"
      },
      "outputs": [
        {
          "output_type": "execute_result",
          "data": {
            "text/plain": [
              "age          0\n",
              "job          0\n",
              "marital      0\n",
              "education    0\n",
              "default      0\n",
              "balance      0\n",
              "housing      0\n",
              "loan         0\n",
              "contact      0\n",
              "day          0\n",
              "month        0\n",
              "duration     0\n",
              "campaign     0\n",
              "pdays        0\n",
              "previous     0\n",
              "poutcome     0\n",
              "y            0\n",
              "dtype: int64"
            ]
          },
          "metadata": {},
          "execution_count": 10
        }
      ],
      "source": [
        "#looking for null values\n",
        "df.isnull().sum()"
      ]
    },
    {
      "cell_type": "markdown",
      "source": [
        "There are no null values in the dataset."
      ],
      "metadata": {
        "id": "6QCcOYnEKWni"
      }
    },
    {
      "cell_type": "code",
      "execution_count": 11,
      "metadata": {
        "colab": {
          "base_uri": "https://localhost:8080/",
          "height": 300
        },
        "id": "yfayiNDqKgyr",
        "outputId": "46c30bfe-afb9-4f74-a278-fa5f69f7dbaa"
      },
      "outputs": [
        {
          "output_type": "execute_result",
          "data": {
            "text/plain": [
              "                age        balance           day      duration      campaign  \\\n",
              "count  45211.000000   45211.000000  45211.000000  45211.000000  45211.000000   \n",
              "mean      40.936210    1362.272058     15.806419    258.163080      2.763841   \n",
              "std       10.618762    3044.765829      8.322476    257.527812      3.098021   \n",
              "min       18.000000   -8019.000000      1.000000      0.000000      1.000000   \n",
              "25%       33.000000      72.000000      8.000000    103.000000      1.000000   \n",
              "50%       39.000000     448.000000     16.000000    180.000000      2.000000   \n",
              "75%       48.000000    1428.000000     21.000000    319.000000      3.000000   \n",
              "max       95.000000  102127.000000     31.000000   4918.000000     63.000000   \n",
              "\n",
              "              pdays      previous  \n",
              "count  45211.000000  45211.000000  \n",
              "mean      40.197828      0.580323  \n",
              "std      100.128746      2.303441  \n",
              "min       -1.000000      0.000000  \n",
              "25%       -1.000000      0.000000  \n",
              "50%       -1.000000      0.000000  \n",
              "75%       -1.000000      0.000000  \n",
              "max      871.000000    275.000000  "
            ],
            "text/html": [
              "\n",
              "  <div id=\"df-cc82f34b-b0e5-473d-a1eb-953c63ec25f9\">\n",
              "    <div class=\"colab-df-container\">\n",
              "      <div>\n",
              "<style scoped>\n",
              "    .dataframe tbody tr th:only-of-type {\n",
              "        vertical-align: middle;\n",
              "    }\n",
              "\n",
              "    .dataframe tbody tr th {\n",
              "        vertical-align: top;\n",
              "    }\n",
              "\n",
              "    .dataframe thead th {\n",
              "        text-align: right;\n",
              "    }\n",
              "</style>\n",
              "<table border=\"1\" class=\"dataframe\">\n",
              "  <thead>\n",
              "    <tr style=\"text-align: right;\">\n",
              "      <th></th>\n",
              "      <th>age</th>\n",
              "      <th>balance</th>\n",
              "      <th>day</th>\n",
              "      <th>duration</th>\n",
              "      <th>campaign</th>\n",
              "      <th>pdays</th>\n",
              "      <th>previous</th>\n",
              "    </tr>\n",
              "  </thead>\n",
              "  <tbody>\n",
              "    <tr>\n",
              "      <th>count</th>\n",
              "      <td>45211.000000</td>\n",
              "      <td>45211.000000</td>\n",
              "      <td>45211.000000</td>\n",
              "      <td>45211.000000</td>\n",
              "      <td>45211.000000</td>\n",
              "      <td>45211.000000</td>\n",
              "      <td>45211.000000</td>\n",
              "    </tr>\n",
              "    <tr>\n",
              "      <th>mean</th>\n",
              "      <td>40.936210</td>\n",
              "      <td>1362.272058</td>\n",
              "      <td>15.806419</td>\n",
              "      <td>258.163080</td>\n",
              "      <td>2.763841</td>\n",
              "      <td>40.197828</td>\n",
              "      <td>0.580323</td>\n",
              "    </tr>\n",
              "    <tr>\n",
              "      <th>std</th>\n",
              "      <td>10.618762</td>\n",
              "      <td>3044.765829</td>\n",
              "      <td>8.322476</td>\n",
              "      <td>257.527812</td>\n",
              "      <td>3.098021</td>\n",
              "      <td>100.128746</td>\n",
              "      <td>2.303441</td>\n",
              "    </tr>\n",
              "    <tr>\n",
              "      <th>min</th>\n",
              "      <td>18.000000</td>\n",
              "      <td>-8019.000000</td>\n",
              "      <td>1.000000</td>\n",
              "      <td>0.000000</td>\n",
              "      <td>1.000000</td>\n",
              "      <td>-1.000000</td>\n",
              "      <td>0.000000</td>\n",
              "    </tr>\n",
              "    <tr>\n",
              "      <th>25%</th>\n",
              "      <td>33.000000</td>\n",
              "      <td>72.000000</td>\n",
              "      <td>8.000000</td>\n",
              "      <td>103.000000</td>\n",
              "      <td>1.000000</td>\n",
              "      <td>-1.000000</td>\n",
              "      <td>0.000000</td>\n",
              "    </tr>\n",
              "    <tr>\n",
              "      <th>50%</th>\n",
              "      <td>39.000000</td>\n",
              "      <td>448.000000</td>\n",
              "      <td>16.000000</td>\n",
              "      <td>180.000000</td>\n",
              "      <td>2.000000</td>\n",
              "      <td>-1.000000</td>\n",
              "      <td>0.000000</td>\n",
              "    </tr>\n",
              "    <tr>\n",
              "      <th>75%</th>\n",
              "      <td>48.000000</td>\n",
              "      <td>1428.000000</td>\n",
              "      <td>21.000000</td>\n",
              "      <td>319.000000</td>\n",
              "      <td>3.000000</td>\n",
              "      <td>-1.000000</td>\n",
              "      <td>0.000000</td>\n",
              "    </tr>\n",
              "    <tr>\n",
              "      <th>max</th>\n",
              "      <td>95.000000</td>\n",
              "      <td>102127.000000</td>\n",
              "      <td>31.000000</td>\n",
              "      <td>4918.000000</td>\n",
              "      <td>63.000000</td>\n",
              "      <td>871.000000</td>\n",
              "      <td>275.000000</td>\n",
              "    </tr>\n",
              "  </tbody>\n",
              "</table>\n",
              "</div>\n",
              "      <button class=\"colab-df-convert\" onclick=\"convertToInteractive('df-cc82f34b-b0e5-473d-a1eb-953c63ec25f9')\"\n",
              "              title=\"Convert this dataframe to an interactive table.\"\n",
              "              style=\"display:none;\">\n",
              "        \n",
              "  <svg xmlns=\"http://www.w3.org/2000/svg\" height=\"24px\"viewBox=\"0 0 24 24\"\n",
              "       width=\"24px\">\n",
              "    <path d=\"M0 0h24v24H0V0z\" fill=\"none\"/>\n",
              "    <path d=\"M18.56 5.44l.94 2.06.94-2.06 2.06-.94-2.06-.94-.94-2.06-.94 2.06-2.06.94zm-11 1L8.5 8.5l.94-2.06 2.06-.94-2.06-.94L8.5 2.5l-.94 2.06-2.06.94zm10 10l.94 2.06.94-2.06 2.06-.94-2.06-.94-.94-2.06-.94 2.06-2.06.94z\"/><path d=\"M17.41 7.96l-1.37-1.37c-.4-.4-.92-.59-1.43-.59-.52 0-1.04.2-1.43.59L10.3 9.45l-7.72 7.72c-.78.78-.78 2.05 0 2.83L4 21.41c.39.39.9.59 1.41.59.51 0 1.02-.2 1.41-.59l7.78-7.78 2.81-2.81c.8-.78.8-2.07 0-2.86zM5.41 20L4 18.59l7.72-7.72 1.47 1.35L5.41 20z\"/>\n",
              "  </svg>\n",
              "      </button>\n",
              "      \n",
              "  <style>\n",
              "    .colab-df-container {\n",
              "      display:flex;\n",
              "      flex-wrap:wrap;\n",
              "      gap: 12px;\n",
              "    }\n",
              "\n",
              "    .colab-df-convert {\n",
              "      background-color: #E8F0FE;\n",
              "      border: none;\n",
              "      border-radius: 50%;\n",
              "      cursor: pointer;\n",
              "      display: none;\n",
              "      fill: #1967D2;\n",
              "      height: 32px;\n",
              "      padding: 0 0 0 0;\n",
              "      width: 32px;\n",
              "    }\n",
              "\n",
              "    .colab-df-convert:hover {\n",
              "      background-color: #E2EBFA;\n",
              "      box-shadow: 0px 1px 2px rgba(60, 64, 67, 0.3), 0px 1px 3px 1px rgba(60, 64, 67, 0.15);\n",
              "      fill: #174EA6;\n",
              "    }\n",
              "\n",
              "    [theme=dark] .colab-df-convert {\n",
              "      background-color: #3B4455;\n",
              "      fill: #D2E3FC;\n",
              "    }\n",
              "\n",
              "    [theme=dark] .colab-df-convert:hover {\n",
              "      background-color: #434B5C;\n",
              "      box-shadow: 0px 1px 3px 1px rgba(0, 0, 0, 0.15);\n",
              "      filter: drop-shadow(0px 1px 2px rgba(0, 0, 0, 0.3));\n",
              "      fill: #FFFFFF;\n",
              "    }\n",
              "  </style>\n",
              "\n",
              "      <script>\n",
              "        const buttonEl =\n",
              "          document.querySelector('#df-cc82f34b-b0e5-473d-a1eb-953c63ec25f9 button.colab-df-convert');\n",
              "        buttonEl.style.display =\n",
              "          google.colab.kernel.accessAllowed ? 'block' : 'none';\n",
              "\n",
              "        async function convertToInteractive(key) {\n",
              "          const element = document.querySelector('#df-cc82f34b-b0e5-473d-a1eb-953c63ec25f9');\n",
              "          const dataTable =\n",
              "            await google.colab.kernel.invokeFunction('convertToInteractive',\n",
              "                                                     [key], {});\n",
              "          if (!dataTable) return;\n",
              "\n",
              "          const docLinkHtml = 'Like what you see? Visit the ' +\n",
              "            '<a target=\"_blank\" href=https://colab.research.google.com/notebooks/data_table.ipynb>data table notebook</a>'\n",
              "            + ' to learn more about interactive tables.';\n",
              "          element.innerHTML = '';\n",
              "          dataTable['output_type'] = 'display_data';\n",
              "          await google.colab.output.renderOutput(dataTable, element);\n",
              "          const docLink = document.createElement('div');\n",
              "          docLink.innerHTML = docLinkHtml;\n",
              "          element.appendChild(docLink);\n",
              "        }\n",
              "      </script>\n",
              "    </div>\n",
              "  </div>\n",
              "  "
            ]
          },
          "metadata": {},
          "execution_count": 11
        }
      ],
      "source": [
        "df.describe()"
      ]
    },
    {
      "cell_type": "code",
      "execution_count": 12,
      "metadata": {
        "id": "FJt0TVV-8fTF"
      },
      "outputs": [],
      "source": [
        "#making a copy of the original dataset\n",
        "df1=df.copy()"
      ]
    },
    {
      "cell_type": "code",
      "execution_count": 13,
      "metadata": {
        "colab": {
          "base_uri": "https://localhost:8080/",
          "height": 436
        },
        "id": "eut1vLNU-fof",
        "outputId": "444586ec-e163-449b-8030-19d2c0da8f12"
      },
      "outputs": [
        {
          "output_type": "display_data",
          "data": {
            "text/plain": [
              "<Figure size 700x500 with 1 Axes>"
            ],
            "image/png": "[encoded data removed]"
          },
          "metadata": {}
        }
      ],
      "source": [
        "#piechart for percentage of number of subscribers and non-subscribers for term deposit(Traget Variable)\n",
        "plt.figure(figsize=(7,5), dpi=100)\n",
        "proportion = df1['y'].value_counts()\n",
        "labels = ['Not-Subscribed a term deposit','Subscribed a term deposit']\n",
        "plt.title('Proportion of Subscribed & Not Subscribed term Deposit')\n",
        "plt.pie(proportion, explode=(0,0.02),labels=labels, shadow = True, autopct = '%1.1f%%', colors= ['#98ff98','#ffcc99'])\n",
        "plt.show()\n"
      ]
    },
    {
      "cell_type": "markdown",
      "metadata": {
        "id": "YjyOGoRJZBk6"
      },
      "source": [
        "We can see from the above plot that the dataset is imbalanced, where the number \n",
        "\n",
        "of Subscribed class is close to 8 times the number of Not-Subscribed Class."
      ]
    },
    {
      "cell_type": "code",
      "execution_count": 14,
      "metadata": {
        "colab": {
          "base_uri": "https://localhost:8080/",
          "height": 334
        },
        "id": "pxZ-ERWX8aES",
        "outputId": "f0de09cc-405d-432d-bda9-7204a68d33f9"
      },
      "outputs": [
        {
          "output_type": "display_data",
          "data": {
            "text/plain": [
              "<Figure size 1080x360 with 2 Axes>"
            ],
            "image/png": "[encoded data removed]"
          },
          "metadata": {
            "needs_background": "light"
          }
        }
      ],
      "source": [
        "#plot for 'age' variable\n",
        "df1['age_bins'] = pd.cut(x=df1['age'], bins=[10,20,30,40,50,60,70,80,90,100],labels=['10-19','20-29','30-39','40-49','50-59','60-69','70-79','80-89','90-100'])\n",
        "\n",
        "fig, axes = plt.subplots(1, 2,figsize = (15,5))\n",
        "sns.countplot(x='age_bins',data=df1, palette='ocean',hue='y',ax = axes[0])\n",
        "sns.boxplot(x=df1['y'],y=df1['age'],ax = axes[1]);"
      ]
    },
    {
      "cell_type": "markdown",
      "metadata": {
        "id": "fWEgX0W8Z6hT"
      },
      "source": [
        "* Majority of the customers are of the age group 30-39. Followed by 40-49 and 50-59.\n",
        "* The box plot for both the subscribed and not-subscribed customers looks the same.\n",
        "* In No class, outliers are present above age 70 and for Yes class, outliers are present above age 75."
      ]
    },
    {
      "cell_type": "code",
      "execution_count": 15,
      "metadata": {
        "colab": {
          "base_uri": "https://localhost:8080/",
          "height": 573
        },
        "id": "Tch925pLAXjB",
        "outputId": "dd36411e-0b93-4472-db95-a712f07fcc32"
      },
      "outputs": [
        {
          "output_type": "display_data",
          "data": {
            "text/plain": [
              "<Figure size 864x576 with 1 Axes>"
            ],
            "image/png": "[encoded data removed]"
          },
          "metadata": {
            "needs_background": "light"
          }
        }
      ],
      "source": [
        "#plot showing term-deposit by job type\n",
        "plt.figure(figsize=(12,8))\n",
        "ax = sns.countplot(df1['job'],hue = df1['y'], data=df1,palette ='Set2' )\n",
        "plt.title('Term-deposit by Job type')\n",
        "plt.xlabel('Job type')\n",
        "plt.ylabel('Frequency')\n",
        "plt.xticks(rotation=90)\n",
        "for p in ax.patches:\n",
        "        ax.annotate('{:.1f}'.format(p.get_height()), (p.get_x()+0.1, p.get_height()+50))"
      ]
    },
    {
      "cell_type": "code",
      "execution_count": 16,
      "metadata": {
        "colab": {
          "base_uri": "https://localhost:8080/"
        },
        "id": "Qd8WA1zcW-ch",
        "outputId": "4f9e723b-be9e-4f47-ec0a-2629fa062944"
      },
      "outputs": [
        {
          "output_type": "execute_result",
          "data": {
            "text/plain": [
              "job            y  \n",
              "admin.         no     0.877973\n",
              "               yes    0.122027\n",
              "blue-collar    no     0.927250\n",
              "               yes    0.072750\n",
              "entrepreneur   no     0.917283\n",
              "               yes    0.082717\n",
              "housemaid      no     0.912097\n",
              "               yes    0.087903\n",
              "management     no     0.862444\n",
              "               yes    0.137556\n",
              "retired        no     0.772085\n",
              "               yes    0.227915\n",
              "self-employed  no     0.881571\n",
              "               yes    0.118429\n",
              "services       no     0.911170\n",
              "               yes    0.088830\n",
              "student        no     0.713220\n",
              "               yes    0.286780\n",
              "technician     no     0.889430\n",
              "               yes    0.110570\n",
              "unemployed     no     0.844973\n",
              "               yes    0.155027\n",
              "unknown        no     0.881944\n",
              "               yes    0.118056\n",
              "Name: y, dtype: float64"
            ]
          },
          "metadata": {},
          "execution_count": 16
        }
      ],
      "source": [
        "#Subscription ratio based on job type\n",
        "df1.groupby(['job','y'])['y'].count()/df1.groupby('job')['y'].count()"
      ]
    },
    {
      "cell_type": "markdown",
      "metadata": {
        "id": "xRloW-wDXV07"
      },
      "source": [
        "Majority of the customers contacted by the bank have blue collar jobs but the chances of taking a term deposit is higher in student and retired profesionals."
      ]
    },
    {
      "cell_type": "code",
      "execution_count": 17,
      "metadata": {
        "colab": {
          "base_uri": "https://localhost:8080/",
          "height": 513
        },
        "id": "wGdvYnCaJefV",
        "outputId": "13d557e7-1597-4f0f-90cf-8b8f0523dd82"
      },
      "outputs": [
        {
          "output_type": "display_data",
          "data": {
            "text/plain": [
              "<Figure size 864x576 with 1 Axes>"
            ],
            "image/png": "[encoded data removed]"
          },
          "metadata": {
            "needs_background": "light"
          }
        }
      ],
      "source": [
        "#plot showing term-deposit by marital status\n",
        "plt.figure(figsize=(12,8))\n",
        "ax = sns.countplot(df1['marital'],hue = df1['y'], data=df1,palette ='Set3' )\n",
        "plt.title('Term-deposit by marital status')\n",
        "plt.xlabel('marital status')\n",
        "plt.ylabel('Frequency')\n",
        "\n",
        "for p in ax.patches:\n",
        "        ax.annotate('{:.1f}'.format(p.get_height()), (p.get_x()+0.1, p.get_height()+50))"
      ]
    },
    {
      "cell_type": "markdown",
      "metadata": {
        "id": "4rVeXLr4Zr1s"
      },
      "source": [
        "Majority of the customers are married. Followed by Single, divorced and unknown."
      ]
    },
    {
      "cell_type": "code",
      "execution_count": 18,
      "metadata": {
        "colab": {
          "base_uri": "https://localhost:8080/",
          "height": 554
        },
        "id": "kftpzPngCTrM",
        "outputId": "7fd7451b-8b34-46b5-8125-354ec3e996e3"
      },
      "outputs": [
        {
          "output_type": "display_data",
          "data": {
            "text/plain": [
              "<Figure size 864x576 with 1 Axes>"
            ],
            "image/png": "[encoded data removed]"
          },
          "metadata": {
            "needs_background": "light"
          }
        }
      ],
      "source": [
        "#plot showing term-deposit by education level\n",
        "plt.figure(figsize=(12,8))\n",
        "ax = sns.countplot(df1['education'],hue = df1['y'], data=df1,palette ='Set2',order=['unknown','primary','secondary','tertiary'] )\n",
        "plt.title('Term-deposit by education level')\n",
        "plt.xlabel('Education level')\n",
        "plt.ylabel('Frequency')\n",
        "plt.xticks(rotation=90)\n",
        "for p in ax.patches:\n",
        "        ax.annotate('{:.1f}'.format(p.get_height()), (p.get_x()+0.1, p.get_height()+50))\n"
      ]
    },
    {
      "cell_type": "code",
      "execution_count": 19,
      "metadata": {
        "colab": {
          "base_uri": "https://localhost:8080/"
        },
        "id": "x6JBOSJWTFfS",
        "outputId": "8cfd7c7f-77b2-466b-bb14-5cff5370d9b2"
      },
      "outputs": [
        {
          "output_type": "execute_result",
          "data": {
            "text/plain": [
              "education  y  \n",
              "primary    no     0.913735\n",
              "           yes    0.086265\n",
              "secondary  no     0.894406\n",
              "           yes    0.105594\n",
              "tertiary   no     0.849936\n",
              "           yes    0.150064\n",
              "unknown    no     0.864297\n",
              "           yes    0.135703\n",
              "Name: y, dtype: float64"
            ]
          },
          "metadata": {},
          "execution_count": 19
        }
      ],
      "source": [
        "#Subscription ratio analysis on basis of Education\n",
        "df1.groupby(['education','y'])['y'].count()/df1.groupby('education')['y'].count()"
      ]
    },
    {
      "cell_type": "markdown",
      "metadata": {
        "id": "nAjlK_aLTTC-"
      },
      "source": [
        "Majority of the customers have secondary education as the highest level of education and people who have attained upto tertiary level of education have higher probability to take a term deposit."
      ]
    },
    {
      "cell_type": "code",
      "execution_count": 20,
      "metadata": {
        "colab": {
          "base_uri": "https://localhost:8080/",
          "height": 520
        },
        "id": "ZxPfL9CNKV7m",
        "outputId": "ca39758a-4ff8-436d-f1d6-402af2c7737f"
      },
      "outputs": [
        {
          "output_type": "display_data",
          "data": {
            "text/plain": [
              "<Figure size 864x576 with 1 Axes>"
            ],
            "image/png": "[encoded data removed]"
          },
          "metadata": {
            "needs_background": "light"
          }
        }
      ],
      "source": [
        "#plot showing term-deposit by credit default\n",
        "plt.figure(figsize=(12,8))\n",
        "ax = sns.countplot(df1['default'],hue = df1['y'], data=df1,palette ='Set3' )\n",
        "plt.title('Term-deposit by default')\n",
        "plt.xlabel('default status')\n",
        "plt.ylabel('Frequency')\n",
        "plt.xticks(rotation=90)\n",
        "for p in ax.patches:\n",
        "        ax.annotate('{:.1f}'.format(p.get_height()), (p.get_x()+0.1, p.get_height()+50))"
      ]
    },
    {
      "cell_type": "markdown",
      "metadata": {
        "id": "OXdjBkWph2an"
      },
      "source": [
        "We can clearly see that the people with default status as ‘no’ are the most who have been contacted by the bank for the deposits. People with default status ‘yes’ have not been contacted by the bank at all. "
      ]
    },
    {
      "cell_type": "code",
      "execution_count": 21,
      "metadata": {
        "colab": {
          "base_uri": "https://localhost:8080/",
          "height": 520
        },
        "id": "m9j4bjWlEnGf",
        "outputId": "f5956e6b-1442-47ca-8035-4828a90e3688"
      },
      "outputs": [
        {
          "output_type": "display_data",
          "data": {
            "text/plain": [
              "<Figure size 864x576 with 1 Axes>"
            ],
            "image/png": "[encoded data removed]"
          },
          "metadata": {
            "needs_background": "light"
          }
        }
      ],
      "source": [
        "#plot showing term-deposit by housing loan\n",
        "plt.figure(figsize=(12,8))\n",
        "ax = sns.countplot(df1['housing'],hue = df1['y'], data=df1,palette ='Set2' )\n",
        "plt.title('Term-deposit by housing loan')\n",
        "plt.xlabel('Housing Loan')\n",
        "plt.ylabel('Frequency')\n",
        "plt.xticks(rotation=90)\n",
        "for p in ax.patches:\n",
        "        ax.annotate('{:.1f}'.format(p.get_height()), (p.get_x()+0.1, p.get_height()+50))\n"
      ]
    },
    {
      "cell_type": "markdown",
      "metadata": {
        "id": "X88cIoqoautK"
      },
      "source": [
        "Majority of the customers have a housing loan.But those who do not have a housing loan are more likely to subscribe to a term-deposit."
      ]
    },
    {
      "cell_type": "code",
      "execution_count": 22,
      "metadata": {
        "colab": {
          "base_uri": "https://localhost:8080/",
          "height": 520
        },
        "id": "bs6SZaEKLL0N",
        "outputId": "fc5ecf60-5771-463e-f1b9-94d3d589bda8"
      },
      "outputs": [
        {
          "output_type": "display_data",
          "data": {
            "text/plain": [
              "<Figure size 864x576 with 1 Axes>"
            ],
            "image/png": "[encoded data removed]"
          },
          "metadata": {
            "needs_background": "light"
          }
        }
      ],
      "source": [
        "#plot showing term-deposit by loan\n",
        "plt.figure(figsize=(12,8))\n",
        "ax = sns.countplot(df1['loan'],hue = df1['y'], data=df1,palette ='Set3' )\n",
        "plt.title('Term-deposit by loan')\n",
        "plt.xlabel('loan')\n",
        "plt.ylabel('Frequency')\n",
        "plt.xticks(rotation=90)\n",
        "for p in ax.patches:\n",
        "        ax.annotate('{:.1f}'.format(p.get_height()), (p.get_x()+0.1, p.get_height()+50))"
      ]
    },
    {
      "cell_type": "markdown",
      "metadata": {
        "id": "-Bn8OjvXa9v4"
      },
      "source": [
        "Very few people have taken a loan and those are more likely to take a term-deposit."
      ]
    },
    {
      "cell_type": "code",
      "execution_count": 23,
      "metadata": {
        "id": "Y2r2iztggjgS"
      },
      "outputs": [],
      "source": [
        "df1['y']=df1['y'].map({'yes':1,'no':0})"
      ]
    },
    {
      "cell_type": "code",
      "execution_count": 24,
      "metadata": {
        "colab": {
          "base_uri": "https://localhost:8080/",
          "height": 553
        },
        "id": "hxb_FdntfrXJ",
        "outputId": "e4721b81-93d0-4e46-b106-102badb4dd9c"
      },
      "outputs": [
        {
          "output_type": "display_data",
          "data": {
            "text/plain": [
              "<Figure size 1080x576 with 1 Axes>"
            ],
            "image/png": "[encoded data removed]"
          },
          "metadata": {
            "needs_background": "light"
          }
        }
      ],
      "source": [
        "#plot showing term-deposit by contact\n",
        "plt.figure(figsize=(15,8))\n",
        "ax = sns.countplot(df1['contact'],hue = df1['y'], data=df1,palette ='Set2')\n",
        "plt.title('Term-deposit by contact')\n",
        "plt.xlabel('contact')\n",
        "plt.ylabel('Frequency')\n",
        "plt.xticks(rotation=90)\n",
        "for p in ax.patches:\n",
        "        ax.annotate('{:.1f}'.format(p.get_height()), (p.get_x()+0.1, p.get_height()+50))\n"
      ]
    },
    {
      "cell_type": "code",
      "execution_count": 25,
      "metadata": {
        "colab": {
          "base_uri": "https://localhost:8080/"
        },
        "id": "vhSIwH_hZedH",
        "outputId": "2770cd37-601c-4294-dabf-9cab2881531b"
      },
      "outputs": [
        {
          "output_type": "execute_result",
          "data": {
            "text/plain": [
              "contact    y\n",
              "cellular   0    0.850811\n",
              "           1    0.149189\n",
              "telephone  0    0.865795\n",
              "           1    0.134205\n",
              "unknown    0    0.959293\n",
              "           1    0.040707\n",
              "Name: y, dtype: float64"
            ]
          },
          "metadata": {},
          "execution_count": 25
        }
      ],
      "source": [
        "#Subscription ratio based on contact\n",
        "df1.groupby(['contact','y'])['y'].count()/df1.groupby('contact')['y'].count()"
      ]
    },
    {
      "cell_type": "markdown",
      "metadata": {
        "id": "pGbazaLtrC8V"
      },
      "source": [
        "Most of the customers have been contacted by cellular rather than telephone.But the subscription rate is same for both the cellular and telephone contacts. Thus we can say contacts made to the customer through the mode of telephone are more likely to subscribe for the term deposit."
      ]
    },
    {
      "cell_type": "code",
      "execution_count": 26,
      "metadata": {
        "colab": {
          "base_uri": "https://localhost:8080/",
          "height": 516
        },
        "id": "MRQnHKPpostf",
        "outputId": "9dc52a01-c28f-41c0-a31d-40f22af44bdb"
      },
      "outputs": [
        {
          "output_type": "display_data",
          "data": {
            "text/plain": [
              "<Figure size 1440x576 with 1 Axes>"
            ],
            "image/png": "[encoded data removed]"
          },
          "metadata": {
            "needs_background": "light"
          }
        }
      ],
      "source": [
        "#plot showing term-deposit by day of month\n",
        "plt.figure(figsize=(20,8))\n",
        "ax = sns.countplot(df1['day'],hue = df1['y'], data=df1,palette ='Set3')\n",
        "plt.title('Term-deposit by day of the month')\n",
        "plt.xlabel('Day of the month')\n",
        "plt.ylabel('Frequency')\n",
        "plt.xticks(rotation=90)\n",
        "for p in ax.patches:\n",
        "        ax.annotate('{:.1f}'.format(p.get_height()), (p.get_x()+0.1, p.get_height()+50))"
      ]
    },
    {
      "cell_type": "markdown",
      "metadata": {
        "id": "h-6QrLlMcDGM"
      },
      "source": [
        "* From the above plot it is clear that all the days have nearly the similar distribution for people subscribing for the term deposit. \n",
        "* Bank contacts more people between 17-21."
      ]
    },
    {
      "cell_type": "code",
      "execution_count": 27,
      "metadata": {
        "colab": {
          "base_uri": "https://localhost:8080/",
          "height": 524
        },
        "id": "yjWw0x8Obgie",
        "outputId": "1fd4326e-9906-4e31-9139-57f99448c27e"
      },
      "outputs": [
        {
          "output_type": "display_data",
          "data": {
            "text/plain": [
              "<Figure size 1080x576 with 1 Axes>"
            ],
            "image/png": "[encoded data removed]"
          },
          "metadata": {
            "needs_background": "light"
          }
        }
      ],
      "source": [
        "#plot showing term-deposit by month\n",
        "plt.figure(figsize=(15,8))\n",
        "ax = sns.countplot(df1['month'],hue = df1['y'], data=df1,palette ='Set2',order= ['jan', 'feb', 'mar', 'apr', 'may', 'jun', 'jul','aug', 'sep', 'oct', 'nov', 'dec'] )\n",
        "plt.title('Term-deposit by month')\n",
        "plt.xlabel('Month')\n",
        "plt.ylabel('Frequency')\n",
        "plt.xticks(rotation=90)\n",
        "for p in ax.patches:\n",
        "        ax.annotate('{:.1f}'.format(p.get_height()), (p.get_x()+0.1, p.get_height()+50))"
      ]
    },
    {
      "cell_type": "markdown",
      "metadata": {
        "id": "wfIQ6YMprVED"
      },
      "source": [
        "* People have been contacted more in the month of May, followed by July, August, June,November. Very few people have been contacted in the month of December. \n",
        "* People contacted in May have higher chances to subscribe for  term deposits but have also higher chances for not subscribing the long term deposits. Very few people are contacted in the month of March, September,October,December  and have almost equal chances for subscribing the deposits or not."
      ]
    },
    {
      "cell_type": "code",
      "execution_count": 28,
      "metadata": {
        "colab": {
          "base_uri": "https://localhost:8080/",
          "height": 530
        },
        "id": "RwWFW6t4dkQC",
        "outputId": "ed0446c6-9705-4734-d832-e34fc13197cc"
      },
      "outputs": [
        {
          "output_type": "execute_result",
          "data": {
            "text/plain": [
              "Text(0, 0.5, 'Duration')"
            ]
          },
          "metadata": {},
          "execution_count": 28
        },
        {
          "output_type": "display_data",
          "data": {
            "text/plain": [
              "<Figure size 864x576 with 1 Axes>"
            ],
            "image/png": "[encoded data removed]"
          },
          "metadata": {
            "needs_background": "light"
          }
        }
      ],
      "source": [
        "#plot showing term-deposit by duration\n",
        "plt.figure(figsize=(12,8))\n",
        "sns.boxplot(x=df1['y'],y=df1['duration'])\n",
        "plt.title('Term-deposit by Duration')\n",
        "plt.xlabel('Term-Month Subscription')\n",
        "plt.ylabel('Duration')"
      ]
    },
    {
      "cell_type": "markdown",
      "metadata": {
        "id": "ye7NDXNIgC8y"
      },
      "source": [
        "Customers who subscribed to term deposits have relatively higher duration."
      ]
    },
    {
      "cell_type": "code",
      "execution_count": 29,
      "metadata": {
        "colab": {
          "base_uri": "https://localhost:8080/",
          "height": 548
        },
        "id": "6iuRbDciV1lJ",
        "outputId": "2fcdb312-9f41-4c86-8a16-db23e149c953"
      },
      "outputs": [
        {
          "output_type": "display_data",
          "data": {
            "text/plain": [
              "<Figure size 864x576 with 1 Axes>"
            ],
            "image/png": "[encoded data removed]"
          },
          "metadata": {
            "needs_background": "light"
          }
        }
      ],
      "source": [
        "#plot showing term-deposit by previous outcome\n",
        "plt.figure(figsize=(12,8))\n",
        "ax = sns.countplot(df1['poutcome'],hue = df1['y'], data=df1,palette ='Set3' )\n",
        "plt.title('Term-deposit by previous outcome')\n",
        "plt.xlabel('previous outcome')\n",
        "plt.ylabel('Frequency')\n",
        "plt.xticks(rotation=90)\n",
        "for p in ax.patches:\n",
        "        ax.annotate('{:.1f}'.format(p.get_height()), (p.get_x()+0.1, p.get_height()+50))"
      ]
    },
    {
      "cell_type": "code",
      "execution_count": 30,
      "metadata": {
        "colab": {
          "base_uri": "https://localhost:8080/"
        },
        "id": "iZBv9ik5se6F",
        "outputId": "d1d813b3-50ea-4670-ff4e-60f79163d11c"
      },
      "outputs": [
        {
          "output_type": "execute_result",
          "data": {
            "text/plain": [
              "poutcome  y\n",
              "failure   0    0.873903\n",
              "          1    0.126097\n",
              "other     0    0.833152\n",
              "          1    0.166848\n",
              "success   0    0.352747\n",
              "          1    0.647253\n",
              "unknown   0    0.908385\n",
              "          1    0.091615\n",
              "Name: y, dtype: float64"
            ]
          },
          "metadata": {},
          "execution_count": 30
        }
      ],
      "source": [
        "df1.groupby(['poutcome','y'])['y'].count()/df1.groupby('poutcome')['y'].count()\n"
      ]
    },
    {
      "cell_type": "markdown",
      "metadata": {
        "id": "WE_Oi8qqb2AJ"
      },
      "source": [
        "Outcome of the previous campaign is unknown for most of the customers but of the customers who had a successful outcome from the previous campaign, 64% of those customers did subscribe for a term deposit. "
      ]
    },
    {
      "cell_type": "code",
      "execution_count": 31,
      "metadata": {
        "colab": {
          "base_uri": "https://localhost:8080/",
          "height": 1000
        },
        "id": "RuyD-LodkZK4",
        "outputId": "fb993144-bc72-4b11-9177-e16b3fdf9139"
      },
      "outputs": [
        {
          "output_type": "display_data",
          "data": {
            "text/plain": [
              "<Figure size 432x1296 with 12 Axes>"
            ],
            "image/png": "[encoded data removed]"
          },
          "metadata": {
            "needs_background": "light"
          }
        }
      ],
      "source": [
        "#plot showing term-deposit by job type\n",
        "g = sns.catplot(x=\"age\", y=\"y\", row=\"job\",\n",
        "                kind=\"box\", orient=\"h\", height=1.5, aspect=4,\n",
        "                data=df1)"
      ]
    },
    {
      "cell_type": "markdown",
      "metadata": {
        "id": "FKhPZ15ey51U"
      },
      "source": [
        "* There is not much agewise difference in subscription to the term deposit if the job profile is entrepreneur, admin, unemployed.\n",
        "* People of profession- management, technician, blue-collar, unknown, services,  self employed, student who subscribe to the term deposit are more likely to subscribe in their younger age.\n",
        "* People of profession- unknown, retired, housemaid who subscribe to the term deposit have their mean age higher than those who don’t subscribe for the term deposit.\n",
        "\n"
      ]
    },
    {
      "cell_type": "code",
      "execution_count": 32,
      "metadata": {
        "colab": {
          "base_uri": "https://localhost:8080/"
        },
        "id": "AOXlTBzTylqA",
        "outputId": "ea5c2bd6-3114-442f-f412-13e20a0a7815"
      },
      "outputs": [
        {
          "output_type": "execute_result",
          "data": {
            "text/plain": [
              "age               56\n",
              "job          unknown\n",
              "marital      married\n",
              "education    unknown\n",
              "default           no\n",
              "balance            0\n",
              "housing           no\n",
              "loan              no\n",
              "contact      unknown\n",
              "day               20\n",
              "month            jun\n",
              "duration         471\n",
              "campaign           2\n",
              "pdays             -1\n",
              "previous           0\n",
              "poutcome     unknown\n",
              "y                  0\n",
              "age_bins       50-59\n",
              "Name: 11812, dtype: object"
            ]
          },
          "metadata": {},
          "execution_count": 32
        }
      ],
      "source": [
        "df1.loc[11812]"
      ]
    },
    {
      "cell_type": "code",
      "execution_count": 33,
      "metadata": {
        "colab": {
          "base_uri": "https://localhost:8080/",
          "height": 322
        },
        "id": "qEGicXKkylnF",
        "outputId": "f984d65b-a92a-4f8b-9137-33ad9dbc09f7"
      },
      "outputs": [
        {
          "output_type": "display_data",
          "data": {
            "text/plain": [
              "<Figure size 432x288 with 2 Axes>"
            ],
            "image/png": "[encoded data removed]"
          },
          "metadata": {
            "needs_background": "light"
          }
        }
      ],
      "source": [
        "# Separate both dataframes into and correlation heatmap\n",
        "numeric_df = df.select_dtypes(exclude=\"object\")\n",
        "categorical_df = df.select_dtypes(include=\"object\")\n",
        "\n",
        "corr_numeric = numeric_df.corr()\n",
        "\n",
        "\n",
        "sns.heatmap(corr_numeric, cbar=True, cmap=\"RdBu_r\")\n",
        "plt.title(\"Correlation Matrix\", fontsize=16)\n",
        "plt.show()"
      ]
    },
    {
      "cell_type": "markdown",
      "metadata": {
        "id": "gpUwlCEK0O1M"
      },
      "source": [
        "Pday and previous has high correlation of 0.45 and pday has negative correqaltion with every other variable except balance."
      ]
    },
    {
      "cell_type": "code",
      "execution_count": 34,
      "metadata": {
        "colab": {
          "base_uri": "https://localhost:8080/",
          "height": 638
        },
        "id": "zaICM_sRyljw",
        "outputId": "f5385cab-be4e-4b78-a738-267d4eeffa48"
      },
      "outputs": [
        {
          "output_type": "display_data",
          "data": {
            "text/plain": [
              "<Figure size 842.4x595.44 with 1 Axes>"
            ],
            "image/png": "[encoded data removed]"
          },
          "metadata": {}
        }
      ],
      "source": [
        "sns.set(rc={'figure.figsize':(11.7,8.27)})\n",
        "sns.set_style('whitegrid')\n",
        "avg_duration = df['duration'].mean()\n",
        "\n",
        "lst = [df]\n",
        "df[\"duration_status\"] = np.nan\n",
        "\n",
        "for col in lst:\n",
        "    col.loc[col[\"duration\"] < avg_duration, \"duration_status\"] = \"below_average\"\n",
        "    col.loc[col[\"duration\"] > avg_duration, \"duration_status\"] = \"above_average\"\n",
        "    \n",
        "pct_term = pd.crosstab(df['duration_status'], df['y']).apply(lambda r: round(r/r.sum(), 2) * 100, axis=1)\n",
        "\n",
        "\n",
        "ax = pct_term.plot(kind='bar', stacked=False, cmap='RdBu')\n",
        "plt.title(\"The Impact of Duration \\n in Opening a Term Deposit\", fontsize=18)\n",
        "plt.xlabel(\"Duration Status\", fontsize=18);\n",
        "plt.ylabel(\"Percentage (%)\", fontsize=18)\n",
        "\n",
        "for p in ax.patches:\n",
        "    ax.annotate(str(p.get_height()), (p.get_x() * 1.02, p.get_height() * 1.02))\n",
        "    \n",
        "\n",
        "plt.show()"
      ]
    },
    {
      "cell_type": "markdown",
      "metadata": {
        "id": "Rv_D-JUO3hXW"
      },
      "source": [
        "Customers whose duration status is above average has 25% chances of subscribing for term deposit."
      ]
    },
    {
      "cell_type": "markdown",
      "metadata": {
        "id": "WR31j8cWYNqy"
      },
      "source": [
        "# feature engineering"
      ]
    },
    {
      "cell_type": "code",
      "execution_count": 35,
      "metadata": {
        "colab": {
          "base_uri": "https://localhost:8080/",
          "height": 206
        },
        "id": "EtrTwAu9ylg-",
        "outputId": "d0ba3acf-fd62-4b0e-8e0b-a1aee0cac736"
      },
      "outputs": [
        {
          "output_type": "execute_result",
          "data": {
            "text/plain": [
              "   age           job  marital  education default  balance housing loan  \\\n",
              "0   58    management  married   tertiary      no     2143     yes   no   \n",
              "1   44    technician   single  secondary      no       29     yes   no   \n",
              "2   33  entrepreneur  married  secondary      no        2     yes  yes   \n",
              "3   47   blue-collar  married    unknown      no     1506     yes   no   \n",
              "4   33       unknown   single    unknown      no        1      no   no   \n",
              "\n",
              "   contact  day month  duration  campaign  pdays  previous poutcome   y  \\\n",
              "0  unknown    5   may       261         1     -1         0  unknown  no   \n",
              "1  unknown    5   may       151         1     -1         0  unknown  no   \n",
              "2  unknown    5   may        76         1     -1         0  unknown  no   \n",
              "3  unknown    5   may        92         1     -1         0  unknown  no   \n",
              "4  unknown    5   may       198         1     -1         0  unknown  no   \n",
              "\n",
              "  duration_status  \n",
              "0   above_average  \n",
              "1   below_average  \n",
              "2   below_average  \n",
              "3   below_average  \n",
              "4   below_average  "
            ],
            "text/html": [
              "\n",
              "  <div id=\"df-00d341c7-827b-42cf-a7cf-e0da80528341\">\n",
              "    <div class=\"colab-df-container\">\n",
              "      <div>\n",
              "<style scoped>\n",
              "    .dataframe tbody tr th:only-of-type {\n",
              "        vertical-align: middle;\n",
              "    }\n",
              "\n",
              "    .dataframe tbody tr th {\n",
              "        vertical-align: top;\n",
              "    }\n",
              "\n",
              "    .dataframe thead th {\n",
              "        text-align: right;\n",
              "    }\n",
              "</style>\n",
              "<table border=\"1\" class=\"dataframe\">\n",
              "  <thead>\n",
              "    <tr style=\"text-align: right;\">\n",
              "      <th></th>\n",
              "      <th>age</th>\n",
              "      <th>job</th>\n",
              "      <th>marital</th>\n",
              "      <th>education</th>\n",
              "      <th>default</th>\n",
              "      <th>balance</th>\n",
              "      <th>housing</th>\n",
              "      <th>loan</th>\n",
              "      <th>contact</th>\n",
              "      <th>day</th>\n",
              "      <th>month</th>\n",
              "      <th>duration</th>\n",
              "      <th>campaign</th>\n",
              "      <th>pdays</th>\n",
              "      <th>previous</th>\n",
              "      <th>poutcome</th>\n",
              "      <th>y</th>\n",
              "      <th>duration_status</th>\n",
              "    </tr>\n",
              "  </thead>\n",
              "  <tbody>\n",
              "    <tr>\n",
              "      <th>0</th>\n",
              "      <td>58</td>\n",
              "      <td>management</td>\n",
              "      <td>married</td>\n",
              "      <td>tertiary</td>\n",
              "      <td>no</td>\n",
              "      <td>2143</td>\n",
              "      <td>yes</td>\n",
              "      <td>no</td>\n",
              "      <td>unknown</td>\n",
              "      <td>5</td>\n",
              "      <td>may</td>\n",
              "      <td>261</td>\n",
              "      <td>1</td>\n",
              "      <td>-1</td>\n",
              "      <td>0</td>\n",
              "      <td>unknown</td>\n",
              "      <td>no</td>\n",
              "      <td>above_average</td>\n",
              "    </tr>\n",
              "    <tr>\n",
              "      <th>1</th>\n",
              "      <td>44</td>\n",
              "      <td>technician</td>\n",
              "      <td>single</td>\n",
              "      <td>secondary</td>\n",
              "      <td>no</td>\n",
              "      <td>29</td>\n",
              "      <td>yes</td>\n",
              "      <td>no</td>\n",
              "      <td>unknown</td>\n",
              "      <td>5</td>\n",
              "      <td>may</td>\n",
              "      <td>151</td>\n",
              "      <td>1</td>\n",
              "      <td>-1</td>\n",
              "      <td>0</td>\n",
              "      <td>unknown</td>\n",
              "      <td>no</td>\n",
              "      <td>below_average</td>\n",
              "    </tr>\n",
              "    <tr>\n",
              "      <th>2</th>\n",
              "      <td>33</td>\n",
              "      <td>entrepreneur</td>\n",
              "      <td>married</td>\n",
              "      <td>secondary</td>\n",
              "      <td>no</td>\n",
              "      <td>2</td>\n",
              "      <td>yes</td>\n",
              "      <td>yes</td>\n",
              "      <td>unknown</td>\n",
              "      <td>5</td>\n",
              "      <td>may</td>\n",
              "      <td>76</td>\n",
              "      <td>1</td>\n",
              "      <td>-1</td>\n",
              "      <td>0</td>\n",
              "      <td>unknown</td>\n",
              "      <td>no</td>\n",
              "      <td>below_average</td>\n",
              "    </tr>\n",
              "    <tr>\n",
              "      <th>3</th>\n",
              "      <td>47</td>\n",
              "      <td>blue-collar</td>\n",
              "      <td>married</td>\n",
              "      <td>unknown</td>\n",
              "      <td>no</td>\n",
              "      <td>1506</td>\n",
              "      <td>yes</td>\n",
              "      <td>no</td>\n",
              "      <td>unknown</td>\n",
              "      <td>5</td>\n",
              "      <td>may</td>\n",
              "      <td>92</td>\n",
              "      <td>1</td>\n",
              "      <td>-1</td>\n",
              "      <td>0</td>\n",
              "      <td>unknown</td>\n",
              "      <td>no</td>\n",
              "      <td>below_average</td>\n",
              "    </tr>\n",
              "    <tr>\n",
              "      <th>4</th>\n",
              "      <td>33</td>\n",
              "      <td>unknown</td>\n",
              "      <td>single</td>\n",
              "      <td>unknown</td>\n",
              "      <td>no</td>\n",
              "      <td>1</td>\n",
              "      <td>no</td>\n",
              "      <td>no</td>\n",
              "      <td>unknown</td>\n",
              "      <td>5</td>\n",
              "      <td>may</td>\n",
              "      <td>198</td>\n",
              "      <td>1</td>\n",
              "      <td>-1</td>\n",
              "      <td>0</td>\n",
              "      <td>unknown</td>\n",
              "      <td>no</td>\n",
              "      <td>below_average</td>\n",
              "    </tr>\n",
              "  </tbody>\n",
              "</table>\n",
              "</div>\n",
              "      <button class=\"colab-df-convert\" onclick=\"convertToInteractive('df-00d341c7-827b-42cf-a7cf-e0da80528341')\"\n",
              "              title=\"Convert this dataframe to an interactive table.\"\n",
              "              style=\"display:none;\">\n",
              "        \n",
              "  <svg xmlns=\"http://www.w3.org/2000/svg\" height=\"24px\"viewBox=\"0 0 24 24\"\n",
              "       width=\"24px\">\n",
              "    <path d=\"M0 0h24v24H0V0z\" fill=\"none\"/>\n",
              "    <path d=\"M18.56 5.44l.94 2.06.94-2.06 2.06-.94-2.06-.94-.94-2.06-.94 2.06-2.06.94zm-11 1L8.5 8.5l.94-2.06 2.06-.94-2.06-.94L8.5 2.5l-.94 2.06-2.06.94zm10 10l.94 2.06.94-2.06 2.06-.94-2.06-.94-.94-2.06-.94 2.06-2.06.94z\"/><path d=\"M17.41 7.96l-1.37-1.37c-.4-.4-.92-.59-1.43-.59-.52 0-1.04.2-1.43.59L10.3 9.45l-7.72 7.72c-.78.78-.78 2.05 0 2.83L4 21.41c.39.39.9.59 1.41.59.51 0 1.02-.2 1.41-.59l7.78-7.78 2.81-2.81c.8-.78.8-2.07 0-2.86zM5.41 20L4 18.59l7.72-7.72 1.47 1.35L5.41 20z\"/>\n",
              "  </svg>\n",
              "      </button>\n",
              "      \n",
              "  <style>\n",
              "    .colab-df-container {\n",
              "      display:flex;\n",
              "      flex-wrap:wrap;\n",
              "      gap: 12px;\n",
              "    }\n",
              "\n",
              "    .colab-df-convert {\n",
              "      background-color: #E8F0FE;\n",
              "      border: none;\n",
              "      border-radius: 50%;\n",
              "      cursor: pointer;\n",
              "      display: none;\n",
              "      fill: #1967D2;\n",
              "      height: 32px;\n",
              "      padding: 0 0 0 0;\n",
              "      width: 32px;\n",
              "    }\n",
              "\n",
              "    .colab-df-convert:hover {\n",
              "      background-color: #E2EBFA;\n",
              "      box-shadow: 0px 1px 2px rgba(60, 64, 67, 0.3), 0px 1px 3px 1px rgba(60, 64, 67, 0.15);\n",
              "      fill: #174EA6;\n",
              "    }\n",
              "\n",
              "    [theme=dark] .colab-df-convert {\n",
              "      background-color: #3B4455;\n",
              "      fill: #D2E3FC;\n",
              "    }\n",
              "\n",
              "    [theme=dark] .colab-df-convert:hover {\n",
              "      background-color: #434B5C;\n",
              "      box-shadow: 0px 1px 3px 1px rgba(0, 0, 0, 0.15);\n",
              "      filter: drop-shadow(0px 1px 2px rgba(0, 0, 0, 0.3));\n",
              "      fill: #FFFFFF;\n",
              "    }\n",
              "  </style>\n",
              "\n",
              "      <script>\n",
              "        const buttonEl =\n",
              "          document.querySelector('#df-00d341c7-827b-42cf-a7cf-e0da80528341 button.colab-df-convert');\n",
              "        buttonEl.style.display =\n",
              "          google.colab.kernel.accessAllowed ? 'block' : 'none';\n",
              "\n",
              "        async function convertToInteractive(key) {\n",
              "          const element = document.querySelector('#df-00d341c7-827b-42cf-a7cf-e0da80528341');\n",
              "          const dataTable =\n",
              "            await google.colab.kernel.invokeFunction('convertToInteractive',\n",
              "                                                     [key], {});\n",
              "          if (!dataTable) return;\n",
              "\n",
              "          const docLinkHtml = 'Like what you see? Visit the ' +\n",
              "            '<a target=\"_blank\" href=https://colab.research.google.com/notebooks/data_table.ipynb>data table notebook</a>'\n",
              "            + ' to learn more about interactive tables.';\n",
              "          element.innerHTML = '';\n",
              "          dataTable['output_type'] = 'display_data';\n",
              "          await google.colab.output.renderOutput(dataTable, element);\n",
              "          const docLink = document.createElement('div');\n",
              "          docLink.innerHTML = docLinkHtml;\n",
              "          element.appendChild(docLink);\n",
              "        }\n",
              "      </script>\n",
              "    </div>\n",
              "  </div>\n",
              "  "
            ]
          },
          "metadata": {},
          "execution_count": 35
        }
      ],
      "source": [
        "# creating copy of the original dataset\n",
        "df1=df.copy()\n",
        "df1.head()"
      ]
    },
    {
      "cell_type": "code",
      "execution_count": 36,
      "metadata": {
        "colab": {
          "base_uri": "https://localhost:8080/",
          "height": 206
        },
        "id": "mRStNjOqyldc",
        "outputId": "6eb5036b-d635-46eb-8df7-0ee141e7c6a9"
      },
      "outputs": [
        {
          "output_type": "execute_result",
          "data": {
            "text/plain": [
              "       age      job  marital education default  balance housing loan  contact  \\\n",
              "9058    51  unknown   single   unknown      no        0      no   no  unknown   \n",
              "9456    35  unknown  married   unknown      no        0      no   no  unknown   \n",
              "9605    47  unknown  married   unknown      no        0      no   no  unknown   \n",
              "10168   58  unknown  married   unknown      no        0      no   no  unknown   \n",
              "11812   56  unknown  married   unknown      no        0      no   no  unknown   \n",
              "\n",
              "       day month  duration  campaign  pdays  previous poutcome   y  \\\n",
              "9058     5   jun       409         1     -1         0  unknown  no   \n",
              "9456     6   jun       159         3     -1         0  unknown  no   \n",
              "9605     6   jun       466         2     -1         0  unknown  no   \n",
              "10168   11   jun       464         2     -1         0  unknown  no   \n",
              "11812   20   jun       471         2     -1         0  unknown  no   \n",
              "\n",
              "      duration_status  \n",
              "9058    above_average  \n",
              "9456    below_average  \n",
              "9605    above_average  \n",
              "10168   above_average  \n",
              "11812   above_average  "
            ],
            "text/html": [
              "\n",
              "  <div id=\"df-88bf25f8-8d3f-48c3-a677-96b50a98978c\">\n",
              "    <div class=\"colab-df-container\">\n",
              "      <div>\n",
              "<style scoped>\n",
              "    .dataframe tbody tr th:only-of-type {\n",
              "        vertical-align: middle;\n",
              "    }\n",
              "\n",
              "    .dataframe tbody tr th {\n",
              "        vertical-align: top;\n",
              "    }\n",
              "\n",
              "    .dataframe thead th {\n",
              "        text-align: right;\n",
              "    }\n",
              "</style>\n",
              "<table border=\"1\" class=\"dataframe\">\n",
              "  <thead>\n",
              "    <tr style=\"text-align: right;\">\n",
              "      <th></th>\n",
              "      <th>age</th>\n",
              "      <th>job</th>\n",
              "      <th>marital</th>\n",
              "      <th>education</th>\n",
              "      <th>default</th>\n",
              "      <th>balance</th>\n",
              "      <th>housing</th>\n",
              "      <th>loan</th>\n",
              "      <th>contact</th>\n",
              "      <th>day</th>\n",
              "      <th>month</th>\n",
              "      <th>duration</th>\n",
              "      <th>campaign</th>\n",
              "      <th>pdays</th>\n",
              "      <th>previous</th>\n",
              "      <th>poutcome</th>\n",
              "      <th>y</th>\n",
              "      <th>duration_status</th>\n",
              "    </tr>\n",
              "  </thead>\n",
              "  <tbody>\n",
              "    <tr>\n",
              "      <th>9058</th>\n",
              "      <td>51</td>\n",
              "      <td>unknown</td>\n",
              "      <td>single</td>\n",
              "      <td>unknown</td>\n",
              "      <td>no</td>\n",
              "      <td>0</td>\n",
              "      <td>no</td>\n",
              "      <td>no</td>\n",
              "      <td>unknown</td>\n",
              "      <td>5</td>\n",
              "      <td>jun</td>\n",
              "      <td>409</td>\n",
              "      <td>1</td>\n",
              "      <td>-1</td>\n",
              "      <td>0</td>\n",
              "      <td>unknown</td>\n",
              "      <td>no</td>\n",
              "      <td>above_average</td>\n",
              "    </tr>\n",
              "    <tr>\n",
              "      <th>9456</th>\n",
              "      <td>35</td>\n",
              "      <td>unknown</td>\n",
              "      <td>married</td>\n",
              "      <td>unknown</td>\n",
              "      <td>no</td>\n",
              "      <td>0</td>\n",
              "      <td>no</td>\n",
              "      <td>no</td>\n",
              "      <td>unknown</td>\n",
              "      <td>6</td>\n",
              "      <td>jun</td>\n",
              "      <td>159</td>\n",
              "      <td>3</td>\n",
              "      <td>-1</td>\n",
              "      <td>0</td>\n",
              "      <td>unknown</td>\n",
              "      <td>no</td>\n",
              "      <td>below_average</td>\n",
              "    </tr>\n",
              "    <tr>\n",
              "      <th>9605</th>\n",
              "      <td>47</td>\n",
              "      <td>unknown</td>\n",
              "      <td>married</td>\n",
              "      <td>unknown</td>\n",
              "      <td>no</td>\n",
              "      <td>0</td>\n",
              "      <td>no</td>\n",
              "      <td>no</td>\n",
              "      <td>unknown</td>\n",
              "      <td>6</td>\n",
              "      <td>jun</td>\n",
              "      <td>466</td>\n",
              "      <td>2</td>\n",
              "      <td>-1</td>\n",
              "      <td>0</td>\n",
              "      <td>unknown</td>\n",
              "      <td>no</td>\n",
              "      <td>above_average</td>\n",
              "    </tr>\n",
              "    <tr>\n",
              "      <th>10168</th>\n",
              "      <td>58</td>\n",
              "      <td>unknown</td>\n",
              "      <td>married</td>\n",
              "      <td>unknown</td>\n",
              "      <td>no</td>\n",
              "      <td>0</td>\n",
              "      <td>no</td>\n",
              "      <td>no</td>\n",
              "      <td>unknown</td>\n",
              "      <td>11</td>\n",
              "      <td>jun</td>\n",
              "      <td>464</td>\n",
              "      <td>2</td>\n",
              "      <td>-1</td>\n",
              "      <td>0</td>\n",
              "      <td>unknown</td>\n",
              "      <td>no</td>\n",
              "      <td>above_average</td>\n",
              "    </tr>\n",
              "    <tr>\n",
              "      <th>11812</th>\n",
              "      <td>56</td>\n",
              "      <td>unknown</td>\n",
              "      <td>married</td>\n",
              "      <td>unknown</td>\n",
              "      <td>no</td>\n",
              "      <td>0</td>\n",
              "      <td>no</td>\n",
              "      <td>no</td>\n",
              "      <td>unknown</td>\n",
              "      <td>20</td>\n",
              "      <td>jun</td>\n",
              "      <td>471</td>\n",
              "      <td>2</td>\n",
              "      <td>-1</td>\n",
              "      <td>0</td>\n",
              "      <td>unknown</td>\n",
              "      <td>no</td>\n",
              "      <td>above_average</td>\n",
              "    </tr>\n",
              "  </tbody>\n",
              "</table>\n",
              "</div>\n",
              "      <button class=\"colab-df-convert\" onclick=\"convertToInteractive('df-88bf25f8-8d3f-48c3-a677-96b50a98978c')\"\n",
              "              title=\"Convert this dataframe to an interactive table.\"\n",
              "              style=\"display:none;\">\n",
              "        \n",
              "  <svg xmlns=\"http://www.w3.org/2000/svg\" height=\"24px\"viewBox=\"0 0 24 24\"\n",
              "       width=\"24px\">\n",
              "    <path d=\"M0 0h24v24H0V0z\" fill=\"none\"/>\n",
              "    <path d=\"M18.56 5.44l.94 2.06.94-2.06 2.06-.94-2.06-.94-.94-2.06-.94 2.06-2.06.94zm-11 1L8.5 8.5l.94-2.06 2.06-.94-2.06-.94L8.5 2.5l-.94 2.06-2.06.94zm10 10l.94 2.06.94-2.06 2.06-.94-2.06-.94-.94-2.06-.94 2.06-2.06.94z\"/><path d=\"M17.41 7.96l-1.37-1.37c-.4-.4-.92-.59-1.43-.59-.52 0-1.04.2-1.43.59L10.3 9.45l-7.72 7.72c-.78.78-.78 2.05 0 2.83L4 21.41c.39.39.9.59 1.41.59.51 0 1.02-.2 1.41-.59l7.78-7.78 2.81-2.81c.8-.78.8-2.07 0-2.86zM5.41 20L4 18.59l7.72-7.72 1.47 1.35L5.41 20z\"/>\n",
              "  </svg>\n",
              "      </button>\n",
              "      \n",
              "  <style>\n",
              "    .colab-df-container {\n",
              "      display:flex;\n",
              "      flex-wrap:wrap;\n",
              "      gap: 12px;\n",
              "    }\n",
              "\n",
              "    .colab-df-convert {\n",
              "      background-color: #E8F0FE;\n",
              "      border: none;\n",
              "      border-radius: 50%;\n",
              "      cursor: pointer;\n",
              "      display: none;\n",
              "      fill: #1967D2;\n",
              "      height: 32px;\n",
              "      padding: 0 0 0 0;\n",
              "      width: 32px;\n",
              "    }\n",
              "\n",
              "    .colab-df-convert:hover {\n",
              "      background-color: #E2EBFA;\n",
              "      box-shadow: 0px 1px 2px rgba(60, 64, 67, 0.3), 0px 1px 3px 1px rgba(60, 64, 67, 0.15);\n",
              "      fill: #174EA6;\n",
              "    }\n",
              "\n",
              "    [theme=dark] .colab-df-convert {\n",
              "      background-color: #3B4455;\n",
              "      fill: #D2E3FC;\n",
              "    }\n",
              "\n",
              "    [theme=dark] .colab-df-convert:hover {\n",
              "      background-color: #434B5C;\n",
              "      box-shadow: 0px 1px 3px 1px rgba(0, 0, 0, 0.15);\n",
              "      filter: drop-shadow(0px 1px 2px rgba(0, 0, 0, 0.3));\n",
              "      fill: #FFFFFF;\n",
              "    }\n",
              "  </style>\n",
              "\n",
              "      <script>\n",
              "        const buttonEl =\n",
              "          document.querySelector('#df-88bf25f8-8d3f-48c3-a677-96b50a98978c button.colab-df-convert');\n",
              "        buttonEl.style.display =\n",
              "          google.colab.kernel.accessAllowed ? 'block' : 'none';\n",
              "\n",
              "        async function convertToInteractive(key) {\n",
              "          const element = document.querySelector('#df-88bf25f8-8d3f-48c3-a677-96b50a98978c');\n",
              "          const dataTable =\n",
              "            await google.colab.kernel.invokeFunction('convertToInteractive',\n",
              "                                                     [key], {});\n",
              "          if (!dataTable) return;\n",
              "\n",
              "          const docLinkHtml = 'Like what you see? Visit the ' +\n",
              "            '<a target=\"_blank\" href=https://colab.research.google.com/notebooks/data_table.ipynb>data table notebook</a>'\n",
              "            + ' to learn more about interactive tables.';\n",
              "          element.innerHTML = '';\n",
              "          dataTable['output_type'] = 'display_data';\n",
              "          await google.colab.output.renderOutput(dataTable, element);\n",
              "          const docLink = document.createElement('div');\n",
              "          docLink.innerHTML = docLinkHtml;\n",
              "          element.appendChild(docLink);\n",
              "        }\n",
              "      </script>\n",
              "    </div>\n",
              "  </div>\n",
              "  "
            ]
          },
          "metadata": {},
          "execution_count": 36
        }
      ],
      "source": [
        "# deleting records which have high unknown values\n",
        "df_unknown=df1.loc[(df[\"education\"]==\"unknown\") & (df1[\"job\"]==\"unknown\") & (df1[\"contact\"]==\"unknown\") & (df1[\"poutcome\"]==\"unknown\") & (df1[\"balance\"]==0) ]\n",
        "df_unknown"
      ]
    },
    {
      "cell_type": "code",
      "execution_count": 37,
      "metadata": {
        "colab": {
          "base_uri": "https://localhost:8080/"
        },
        "id": "V77QZuQ7ylau",
        "outputId": "4f151bf3-2a52-4893-acb6-9c7937cb5fc9"
      },
      "outputs": [
        {
          "output_type": "execute_result",
          "data": {
            "text/plain": [
              "5"
            ]
          },
          "metadata": {},
          "execution_count": 37
        }
      ],
      "source": [
        "len(df_unknown)"
      ]
    },
    {
      "cell_type": "code",
      "execution_count": 38,
      "metadata": {
        "colab": {
          "base_uri": "https://localhost:8080/"
        },
        "id": "ytp4iMVuylXV",
        "outputId": "4c8a2c64-c311-431a-dc56-a806ec941425"
      },
      "outputs": [
        {
          "output_type": "execute_result",
          "data": {
            "text/plain": [
              "Int64Index([9058, 9456, 9605, 10168, 11812], dtype='int64')"
            ]
          },
          "metadata": {},
          "execution_count": 38
        }
      ],
      "source": [
        "df_unknown.index"
      ]
    },
    {
      "cell_type": "code",
      "execution_count": 39,
      "metadata": {
        "id": "iP38__97ylUQ"
      },
      "outputs": [],
      "source": [
        "df1.drop(df_unknown.index,inplace=True)"
      ]
    },
    {
      "cell_type": "code",
      "execution_count": 40,
      "metadata": {
        "id": "iIfmFrj7sP0W"
      },
      "outputs": [],
      "source": [
        "df1=df1.drop(columns=[\"duration_status\"],axis=0)"
      ]
    },
    {
      "cell_type": "code",
      "execution_count": 41,
      "metadata": {
        "id": "TwV2QKZvylRF"
      },
      "outputs": [],
      "source": [
        "df1=df1.reset_index()"
      ]
    },
    {
      "cell_type": "code",
      "execution_count": 42,
      "metadata": {
        "colab": {
          "base_uri": "https://localhost:8080/",
          "height": 49
        },
        "id": "kZCWfJaCylOL",
        "outputId": "27434bfe-1e74-452f-e22d-ec13b17f92d0"
      },
      "outputs": [
        {
          "output_type": "execute_result",
          "data": {
            "text/plain": [
              "Empty DataFrame\n",
              "Columns: [index, age, job, marital, education, default, balance, housing, loan, contact, day, month, duration, campaign, pdays, previous, poutcome, y]\n",
              "Index: []"
            ],
            "text/html": [
              "\n",
              "  <div id=\"df-230ce5ab-2868-47bd-a482-b7ca35feed9b\">\n",
              "    <div class=\"colab-df-container\">\n",
              "      <div>\n",
              "<style scoped>\n",
              "    .dataframe tbody tr th:only-of-type {\n",
              "        vertical-align: middle;\n",
              "    }\n",
              "\n",
              "    .dataframe tbody tr th {\n",
              "        vertical-align: top;\n",
              "    }\n",
              "\n",
              "    .dataframe thead th {\n",
              "        text-align: right;\n",
              "    }\n",
              "</style>\n",
              "<table border=\"1\" class=\"dataframe\">\n",
              "  <thead>\n",
              "    <tr style=\"text-align: right;\">\n",
              "      <th></th>\n",
              "      <th>index</th>\n",
              "      <th>age</th>\n",
              "      <th>job</th>\n",
              "      <th>marital</th>\n",
              "      <th>education</th>\n",
              "      <th>default</th>\n",
              "      <th>balance</th>\n",
              "      <th>housing</th>\n",
              "      <th>loan</th>\n",
              "      <th>contact</th>\n",
              "      <th>day</th>\n",
              "      <th>month</th>\n",
              "      <th>duration</th>\n",
              "      <th>campaign</th>\n",
              "      <th>pdays</th>\n",
              "      <th>previous</th>\n",
              "      <th>poutcome</th>\n",
              "      <th>y</th>\n",
              "    </tr>\n",
              "  </thead>\n",
              "  <tbody>\n",
              "  </tbody>\n",
              "</table>\n",
              "</div>\n",
              "      <button class=\"colab-df-convert\" onclick=\"convertToInteractive('df-230ce5ab-2868-47bd-a482-b7ca35feed9b')\"\n",
              "              title=\"Convert this dataframe to an interactive table.\"\n",
              "              style=\"display:none;\">\n",
              "        \n",
              "  <svg xmlns=\"http://www.w3.org/2000/svg\" height=\"24px\"viewBox=\"0 0 24 24\"\n",
              "       width=\"24px\">\n",
              "    <path d=\"M0 0h24v24H0V0z\" fill=\"none\"/>\n",
              "    <path d=\"M18.56 5.44l.94 2.06.94-2.06 2.06-.94-2.06-.94-.94-2.06-.94 2.06-2.06.94zm-11 1L8.5 8.5l.94-2.06 2.06-.94-2.06-.94L8.5 2.5l-.94 2.06-2.06.94zm10 10l.94 2.06.94-2.06 2.06-.94-2.06-.94-.94-2.06-.94 2.06-2.06.94z\"/><path d=\"M17.41 7.96l-1.37-1.37c-.4-.4-.92-.59-1.43-.59-.52 0-1.04.2-1.43.59L10.3 9.45l-7.72 7.72c-.78.78-.78 2.05 0 2.83L4 21.41c.39.39.9.59 1.41.59.51 0 1.02-.2 1.41-.59l7.78-7.78 2.81-2.81c.8-.78.8-2.07 0-2.86zM5.41 20L4 18.59l7.72-7.72 1.47 1.35L5.41 20z\"/>\n",
              "  </svg>\n",
              "      </button>\n",
              "      \n",
              "  <style>\n",
              "    .colab-df-container {\n",
              "      display:flex;\n",
              "      flex-wrap:wrap;\n",
              "      gap: 12px;\n",
              "    }\n",
              "\n",
              "    .colab-df-convert {\n",
              "      background-color: #E8F0FE;\n",
              "      border: none;\n",
              "      border-radius: 50%;\n",
              "      cursor: pointer;\n",
              "      display: none;\n",
              "      fill: #1967D2;\n",
              "      height: 32px;\n",
              "      padding: 0 0 0 0;\n",
              "      width: 32px;\n",
              "    }\n",
              "\n",
              "    .colab-df-convert:hover {\n",
              "      background-color: #E2EBFA;\n",
              "      box-shadow: 0px 1px 2px rgba(60, 64, 67, 0.3), 0px 1px 3px 1px rgba(60, 64, 67, 0.15);\n",
              "      fill: #174EA6;\n",
              "    }\n",
              "\n",
              "    [theme=dark] .colab-df-convert {\n",
              "      background-color: #3B4455;\n",
              "      fill: #D2E3FC;\n",
              "    }\n",
              "\n",
              "    [theme=dark] .colab-df-convert:hover {\n",
              "      background-color: #434B5C;\n",
              "      box-shadow: 0px 1px 3px 1px rgba(0, 0, 0, 0.15);\n",
              "      filter: drop-shadow(0px 1px 2px rgba(0, 0, 0, 0.3));\n",
              "      fill: #FFFFFF;\n",
              "    }\n",
              "  </style>\n",
              "\n",
              "      <script>\n",
              "        const buttonEl =\n",
              "          document.querySelector('#df-230ce5ab-2868-47bd-a482-b7ca35feed9b button.colab-df-convert');\n",
              "        buttonEl.style.display =\n",
              "          google.colab.kernel.accessAllowed ? 'block' : 'none';\n",
              "\n",
              "        async function convertToInteractive(key) {\n",
              "          const element = document.querySelector('#df-230ce5ab-2868-47bd-a482-b7ca35feed9b');\n",
              "          const dataTable =\n",
              "            await google.colab.kernel.invokeFunction('convertToInteractive',\n",
              "                                                     [key], {});\n",
              "          if (!dataTable) return;\n",
              "\n",
              "          const docLinkHtml = 'Like what you see? Visit the ' +\n",
              "            '<a target=\"_blank\" href=https://colab.research.google.com/notebooks/data_table.ipynb>data table notebook</a>'\n",
              "            + ' to learn more about interactive tables.';\n",
              "          element.innerHTML = '';\n",
              "          dataTable['output_type'] = 'display_data';\n",
              "          await google.colab.output.renderOutput(dataTable, element);\n",
              "          const docLink = document.createElement('div');\n",
              "          docLink.innerHTML = docLinkHtml;\n",
              "          element.appendChild(docLink);\n",
              "        }\n",
              "      </script>\n",
              "    </div>\n",
              "  </div>\n",
              "  "
            ]
          },
          "metadata": {},
          "execution_count": 42
        }
      ],
      "source": [
        "# quick check\n",
        "df1.loc[(df[\"education\"]==\"unknown\") & (df1[\"job\"]==\"unknown\") & (df1[\"contact\"]==\"unknown\") & (df1[\"poutcome\"]==\"unknown\") & (df1[\"balance\"]==0)]"
      ]
    },
    {
      "cell_type": "markdown",
      "metadata": {
        "id": "88z49_w8asqq"
      },
      "source": [
        "# scaling and label encoding"
      ]
    },
    {
      "cell_type": "code",
      "execution_count": 43,
      "metadata": {
        "id": "GhU4FJkiMXSK"
      },
      "outputs": [],
      "source": [
        "#Label encoding and getting dummies for categorical variables\n",
        "df1['default'] = df1['default'].map({'yes':1,'no':0})\n",
        "df1['housing'] = df1['housing'].map({'yes':1,'no':0})\n",
        "df1['loan'] = df1['loan'].map({'yes':1,'no':0})\n",
        "df1['y'] = df1['y'].map({'yes':1,'no':0})\n",
        "df1=pd.get_dummies(df1,columns=[\"job\", \"education\", \"marital\", \"contact\", \"month\", \"poutcome\"])\n",
        "df1.drop('index',axis=1,inplace=True)\n"
      ]
    },
    {
      "cell_type": "code",
      "execution_count": 44,
      "metadata": {
        "colab": {
          "base_uri": "https://localhost:8080/"
        },
        "id": "qP2VR3tsCNl6",
        "outputId": "143e1ffd-8331-4cfc-a196-c7e8fc195b9d"
      },
      "outputs": [
        {
          "output_type": "execute_result",
          "data": {
            "text/plain": [
              "(0    0.883005\n",
              " 1    0.116995\n",
              " Name: y, dtype: float64, 0    0.88299\n",
              " 1    0.11701\n",
              " Name: y, dtype: float64)"
            ]
          },
          "metadata": {},
          "execution_count": 44
        }
      ],
      "source": [
        "# Here we split the data into training and test sets and implement a stratified shuffle split.\n",
        "from sklearn.model_selection import StratifiedShuffleSplit\n",
        "stratified = StratifiedShuffleSplit(n_splits=1, test_size=0.2, random_state=42)\n",
        "\n",
        "for train_set, test_set in stratified.split(df1, df1[\"y\"]):\n",
        "    stratified_train = df1.loc[train_set]\n",
        "    stratified_test = df1.loc[test_set]\n",
        "    \n",
        "stratified_train[\"y\"].value_counts()/len(stratified_train['y']), stratified_test[\"y\"].value_counts()/len(stratified_test['y'])"
      ]
    },
    {
      "cell_type": "code",
      "execution_count": 45,
      "metadata": {
        "colab": {
          "base_uri": "https://localhost:8080/"
        },
        "id": "3bZnNVpqylE1",
        "outputId": "949e38b6-d3fe-48c8-988b-d94965776c18"
      },
      "outputs": [
        {
          "output_type": "execute_result",
          "data": {
            "text/plain": [
              "((9042, 49), (36164, 49))"
            ]
          },
          "metadata": {},
          "execution_count": 45
        }
      ],
      "source": [
        "# Separate the labels and the features.\n",
        "train_data = stratified_train # Make a copy of the stratified training set.\n",
        "test_data = stratified_test\n",
        "\n",
        "test_data.shape,train_data.shape\n",
        "# train_data['deposit'].value_counts()"
      ]
    },
    {
      "cell_type": "code",
      "execution_count": 46,
      "metadata": {
        "colab": {
          "base_uri": "https://localhost:8080/"
        },
        "id": "ym8PZl6Ha2wl",
        "outputId": "382214a4-dd43-4114-c0d2-d3704788781a"
      },
      "outputs": [
        {
          "output_type": "execute_result",
          "data": {
            "text/plain": [
              "((36164, 48), (9042, 48))"
            ]
          },
          "metadata": {},
          "execution_count": 46
        }
      ],
      "source": [
        "#dropping the dependent variable column from dataset\n",
        "x_train=train_data.drop(columns=[\"y\"])\n",
        "x_test=test_data.drop(columns=[\"y\"])\n",
        "\n",
        "x_train.shape,x_test.shape"
      ]
    },
    {
      "cell_type": "code",
      "execution_count": 47,
      "metadata": {
        "id": "0c4uFOukSVIb"
      },
      "outputs": [],
      "source": [
        "#applying standar scaling\n",
        "from sklearn.preprocessing import StandardScaler\n",
        "sc= StandardScaler()\n",
        "x_train_sc=sc.fit_transform(x_train)\n",
        "x_test_sc=sc.transform(x_test)"
      ]
    },
    {
      "cell_type": "code",
      "execution_count": 48,
      "metadata": {
        "colab": {
          "base_uri": "https://localhost:8080/"
        },
        "id": "kQIXQzWGa8Kf",
        "outputId": "7ba7aa5d-6270-443f-da3d-5bb1ba03564e"
      },
      "outputs": [
        {
          "output_type": "execute_result",
          "data": {
            "text/plain": [
              "((36164,), (9042,))"
            ]
          },
          "metadata": {},
          "execution_count": 48
        }
      ],
      "source": [
        "y_train = train_data['y']\n",
        "y_test = test_data['y']\n",
        "y_train.shape,y_test.shape\n"
      ]
    },
    {
      "cell_type": "code",
      "execution_count": 49,
      "metadata": {
        "colab": {
          "base_uri": "https://localhost:8080/"
        },
        "id": "4JlsPrA3iKSN",
        "outputId": "1a7ded58-227e-41d0-cb86-5ff44c86c6d1"
      },
      "outputs": [
        {
          "output_type": "execute_result",
          "data": {
            "text/plain": [
              "0    39917\n",
              "1     5289\n",
              "Name: y, dtype: int64"
            ]
          },
          "metadata": {},
          "execution_count": 49
        }
      ],
      "source": [
        "df1['y'].value_counts()"
      ]
    },
    {
      "cell_type": "code",
      "execution_count": 50,
      "metadata": {
        "colab": {
          "base_uri": "https://localhost:8080/"
        },
        "id": "EcLd4lUNh8aX",
        "outputId": "e94f34b8-3c8f-4bac-d578-7e6a29a9a143"
      },
      "outputs": [
        {
          "output_type": "execute_result",
          "data": {
            "text/plain": [
              "(0    31933\n",
              " 1     4231\n",
              " Name: y, dtype: int64, 0    7984\n",
              " 1    1058\n",
              " Name: y, dtype: int64)"
            ]
          },
          "metadata": {},
          "execution_count": 50
        }
      ],
      "source": [
        "y_train.value_counts(),y_test.value_counts()"
      ]
    },
    {
      "cell_type": "code",
      "execution_count": 51,
      "metadata": {
        "id": "jMCginooa-b7"
      },
      "outputs": [],
      "source": [
        "# label encoding target variabel\n",
        "from sklearn.preprocessing import LabelEncoder\n",
        "\n",
        "encode = LabelEncoder()\n",
        "y_train = encode.fit_transform(y_train)\n",
        "y_test = encode.fit_transform(y_test)\n"
      ]
    },
    {
      "cell_type": "code",
      "execution_count": 52,
      "metadata": {
        "id": "6w2XJ2bebA8V"
      },
      "outputs": [],
      "source": [
        "# selecting best suitable classification model for this dataset\n",
        "import time\n",
        "\n",
        "\n",
        "from sklearn.decomposition import PCA\n",
        "from sklearn.preprocessing import StandardScaler, LabelEncoder\n",
        " \n",
        "from sklearn.linear_model import LogisticRegression\n",
        "from sklearn.svm import SVC\n",
        "from sklearn.neighbors import KNeighborsClassifier\n",
        "from sklearn import tree\n",
        "from sklearn.neural_network import MLPClassifier\n",
        "from sklearn.neighbors import KNeighborsClassifier\n",
        "from sklearn.ensemble import GradientBoostingClassifier\n",
        "from sklearn.gaussian_process.kernels import RBF\n",
        "from sklearn.ensemble import RandomForestClassifier\n",
        "from sklearn.naive_bayes import GaussianNB\n",
        "from xgboost import XGBClassifier\n",
        "\n",
        "\n",
        "dict_classifiers = {\n",
        "    \"Logistic Regression\": LogisticRegression(),\n",
        "    \"Nearest Neighbors\": KNeighborsClassifier(),\n",
        "    \"Linear SVM\": SVC(),\n",
        "    \"Gradient Boosting Classifier\": GradientBoostingClassifier(),\n",
        "     \"Decision Tree\": tree.DecisionTreeClassifier(),\n",
        "    \"Random Forest\": RandomForestClassifier(n_estimators=18),\n",
        "    \"Neural Net\": MLPClassifier(alpha=1),\n",
        "    \"Naive Bayes\": GaussianNB(),\n",
        "    \"XgBoost\": XGBClassifier()\n",
        "\n",
        "}"
      ]
    },
    {
      "cell_type": "code",
      "execution_count": 53,
      "metadata": {
        "colab": {
          "base_uri": "https://localhost:8080/"
        },
        "id": "XhnZS6sSr57A",
        "outputId": "6803a57f-87ea-4974-fad8-063fc3e9b157"
      },
      "outputs": [
        {
          "output_type": "execute_result",
          "data": {
            "text/plain": [
              "array([[-0.9363499 , -0.13560482, -0.20818654, ..., -0.20481695,\n",
              "        -0.18589709, -2.12176854],\n",
              "       [ 1.41776528, -0.13560482, -0.44108117, ..., -0.20481695,\n",
              "        -0.18589709,  0.47130494],\n",
              "       [ 1.13527146, -0.13560482, -0.73409895, ..., -0.20481695,\n",
              "        -0.18589709,  0.47130494],\n",
              "       ...,\n",
              "       [ 0.75861303, -0.13560482, -0.36080685, ..., -0.20481695,\n",
              "        -0.18589709,  0.47130494],\n",
              "       [-1.31300833, -0.13560482, -0.38360079, ..., -0.20481695,\n",
              "        -0.18589709,  0.47130494],\n",
              "       [ 0.00529617, -0.13560482, -0.40309126, ..., -0.20481695,\n",
              "        -0.18589709,  0.47130494]])"
            ]
          },
          "metadata": {},
          "execution_count": 53
        }
      ],
      "source": [
        "x_train_sc"
      ]
    },
    {
      "cell_type": "code",
      "execution_count": 54,
      "metadata": {
        "colab": {
          "base_uri": "https://localhost:8080/"
        },
        "id": "0k7YqThNPnMn",
        "outputId": "96103775-ede2-456a-9a5b-cd7d608239c2"
      },
      "outputs": [
        {
          "output_type": "stream",
          "name": "stdout",
          "text": [
            "trained Logistic Regression in 0.28 s\n",
            "trained Nearest Neighbors in 0.01 s\n",
            "trained Linear SVM in 33.12 s\n",
            "trained Gradient Boosting Classifier in 6.84 s\n",
            "trained Decision Tree in 0.42 s\n",
            "trained Random Forest in 0.81 s\n",
            "trained Neural Net in 24.00 s\n",
            "trained Naive Bayes in 0.06 s\n",
            "trained XgBoost in 4.38 s\n",
            "                     classifier  train_score  training_time  train_f1_score  \\\n",
            "4                 Decision Tree     1.000000       0.418960        1.000000   \n",
            "5                 Random Forest     0.996875       0.811618        0.986482   \n",
            "2                    Linear SVM     0.918814      33.123007        0.545370   \n",
            "1             Nearest Neighbors     0.917266       0.009901        0.556215   \n",
            "3  Gradient Boosting Classifier     0.911072       6.838965        0.532422   \n",
            "6                    Neural Net     0.910546      24.002491        0.536467   \n",
            "8                       XgBoost     0.909330       4.382978        0.504008   \n",
            "0           Logistic Regression     0.900813       0.279332        0.444651   \n",
            "7                   Naive Bayes     0.853998       0.063456        0.440796   \n",
            "\n",
            "   test_f1_score  \n",
            "4       0.484241  \n",
            "5       0.457388  \n",
            "2       0.439871  \n",
            "1       0.384615  \n",
            "3       0.500600  \n",
            "6       0.515524  \n",
            "8       0.474829  \n",
            "0       0.455808  \n",
            "7       0.453961  \n"
          ]
        }
      ],
      "source": [
        "no_classifiers = len(dict_classifiers.keys())\n",
        "from sklearn.metrics import f1_score\n",
        "\n",
        "def batch_classify(X_train, Y_train,x_test,y_test,verbose = True):\n",
        "    df_results = pd.DataFrame(data=np.zeros(shape=(no_classifiers,5)), columns = ['classifier', 'train_score', 'training_time','train_f1_score','test_f1_score'])\n",
        "    count = 0\n",
        "    for key, classifier in dict_classifiers.items():\n",
        "        t_start = time.clock()\n",
        "        classifier.fit(X_train, Y_train)\n",
        "\n",
        "        t_end = time.clock()\n",
        "        t_diff = t_end - t_start\n",
        "        train_score = classifier.score(X_train, Y_train)\n",
        "        f1_score1_train= f1_score(Y_train,classifier.predict(X_train))\n",
        "        f1_score1_test= f1_score(y_test, classifier.predict(x_test))\n",
        "       \n",
        "        df_results.loc[count,'classifier'] = key\n",
        "        df_results.loc[count,'train_score'] = train_score\n",
        "        df_results.loc[count,'training_time'] = t_diff\n",
        "        df_results.loc[count,'train_f1_score'] = f1_score1_train\n",
        "        df_results.loc[count,'test_f1_score'] = f1_score1_test\n",
        "        if verbose:\n",
        "            print(\"trained {c} in {f:.2f} s\".format(c=key, f=t_diff))\n",
        "        count+=1\n",
        "    return df_results\n",
        "\n",
        "\n",
        "df_results = batch_classify(x_train_sc, y_train,x_test_sc,y_test)\n",
        "print(df_results.sort_values(by='train_score', ascending=False))"
      ]
    },
    {
      "cell_type": "code",
      "execution_count": 55,
      "metadata": {
        "id": "CpojWiXVbTXr",
        "colab": {
          "base_uri": "https://localhost:8080/",
          "height": 332
        },
        "outputId": "0428a0bd-b52c-4dfc-c41f-abfef704d093"
      },
      "outputs": [
        {
          "output_type": "execute_result",
          "data": {
            "text/plain": [
              "                     classifier  train_score  training_time  train_f1_score  \\\n",
              "0           Logistic Regression     0.900813       0.279332        0.444651   \n",
              "1             Nearest Neighbors     0.917266       0.009901        0.556215   \n",
              "2                    Linear SVM     0.918814      33.123007        0.545370   \n",
              "3  Gradient Boosting Classifier     0.911072       6.838965        0.532422   \n",
              "4                 Decision Tree     1.000000       0.418960        1.000000   \n",
              "5                 Random Forest     0.996875       0.811618        0.986482   \n",
              "6                    Neural Net     0.910546      24.002491        0.536467   \n",
              "7                   Naive Bayes     0.853998       0.063456        0.440796   \n",
              "8                       XgBoost     0.909330       4.382978        0.504008   \n",
              "\n",
              "   test_f1_score  \n",
              "0       0.455808  \n",
              "1       0.384615  \n",
              "2       0.439871  \n",
              "3       0.500600  \n",
              "4       0.484241  \n",
              "5       0.457388  \n",
              "6       0.515524  \n",
              "7       0.453961  \n",
              "8       0.474829  "
            ],
            "text/html": [
              "\n",
              "  <div id=\"df-35438d53-69e6-4b02-be8d-325e5cd53e6c\">\n",
              "    <div class=\"colab-df-container\">\n",
              "      <div>\n",
              "<style scoped>\n",
              "    .dataframe tbody tr th:only-of-type {\n",
              "        vertical-align: middle;\n",
              "    }\n",
              "\n",
              "    .dataframe tbody tr th {\n",
              "        vertical-align: top;\n",
              "    }\n",
              "\n",
              "    .dataframe thead th {\n",
              "        text-align: right;\n",
              "    }\n",
              "</style>\n",
              "<table border=\"1\" class=\"dataframe\">\n",
              "  <thead>\n",
              "    <tr style=\"text-align: right;\">\n",
              "      <th></th>\n",
              "      <th>classifier</th>\n",
              "      <th>train_score</th>\n",
              "      <th>training_time</th>\n",
              "      <th>train_f1_score</th>\n",
              "      <th>test_f1_score</th>\n",
              "    </tr>\n",
              "  </thead>\n",
              "  <tbody>\n",
              "    <tr>\n",
              "      <th>0</th>\n",
              "      <td>Logistic Regression</td>\n",
              "      <td>0.900813</td>\n",
              "      <td>0.279332</td>\n",
              "      <td>0.444651</td>\n",
              "      <td>0.455808</td>\n",
              "    </tr>\n",
              "    <tr>\n",
              "      <th>1</th>\n",
              "      <td>Nearest Neighbors</td>\n",
              "      <td>0.917266</td>\n",
              "      <td>0.009901</td>\n",
              "      <td>0.556215</td>\n",
              "      <td>0.384615</td>\n",
              "    </tr>\n",
              "    <tr>\n",
              "      <th>2</th>\n",
              "      <td>Linear SVM</td>\n",
              "      <td>0.918814</td>\n",
              "      <td>33.123007</td>\n",
              "      <td>0.545370</td>\n",
              "      <td>0.439871</td>\n",
              "    </tr>\n",
              "    <tr>\n",
              "      <th>3</th>\n",
              "      <td>Gradient Boosting Classifier</td>\n",
              "      <td>0.911072</td>\n",
              "      <td>6.838965</td>\n",
              "      <td>0.532422</td>\n",
              "      <td>0.500600</td>\n",
              "    </tr>\n",
              "    <tr>\n",
              "      <th>4</th>\n",
              "      <td>Decision Tree</td>\n",
              "      <td>1.000000</td>\n",
              "      <td>0.418960</td>\n",
              "      <td>1.000000</td>\n",
              "      <td>0.484241</td>\n",
              "    </tr>\n",
              "    <tr>\n",
              "      <th>5</th>\n",
              "      <td>Random Forest</td>\n",
              "      <td>0.996875</td>\n",
              "      <td>0.811618</td>\n",
              "      <td>0.986482</td>\n",
              "      <td>0.457388</td>\n",
              "    </tr>\n",
              "    <tr>\n",
              "      <th>6</th>\n",
              "      <td>Neural Net</td>\n",
              "      <td>0.910546</td>\n",
              "      <td>24.002491</td>\n",
              "      <td>0.536467</td>\n",
              "      <td>0.515524</td>\n",
              "    </tr>\n",
              "    <tr>\n",
              "      <th>7</th>\n",
              "      <td>Naive Bayes</td>\n",
              "      <td>0.853998</td>\n",
              "      <td>0.063456</td>\n",
              "      <td>0.440796</td>\n",
              "      <td>0.453961</td>\n",
              "    </tr>\n",
              "    <tr>\n",
              "      <th>8</th>\n",
              "      <td>XgBoost</td>\n",
              "      <td>0.909330</td>\n",
              "      <td>4.382978</td>\n",
              "      <td>0.504008</td>\n",
              "      <td>0.474829</td>\n",
              "    </tr>\n",
              "  </tbody>\n",
              "</table>\n",
              "</div>\n",
              "      <button class=\"colab-df-convert\" onclick=\"convertToInteractive('df-35438d53-69e6-4b02-be8d-325e5cd53e6c')\"\n",
              "              title=\"Convert this dataframe to an interactive table.\"\n",
              "              style=\"display:none;\">\n",
              "        \n",
              "  <svg xmlns=\"http://www.w3.org/2000/svg\" height=\"24px\"viewBox=\"0 0 24 24\"\n",
              "       width=\"24px\">\n",
              "    <path d=\"M0 0h24v24H0V0z\" fill=\"none\"/>\n",
              "    <path d=\"M18.56 5.44l.94 2.06.94-2.06 2.06-.94-2.06-.94-.94-2.06-.94 2.06-2.06.94zm-11 1L8.5 8.5l.94-2.06 2.06-.94-2.06-.94L8.5 2.5l-.94 2.06-2.06.94zm10 10l.94 2.06.94-2.06 2.06-.94-2.06-.94-.94-2.06-.94 2.06-2.06.94z\"/><path d=\"M17.41 7.96l-1.37-1.37c-.4-.4-.92-.59-1.43-.59-.52 0-1.04.2-1.43.59L10.3 9.45l-7.72 7.72c-.78.78-.78 2.05 0 2.83L4 21.41c.39.39.9.59 1.41.59.51 0 1.02-.2 1.41-.59l7.78-7.78 2.81-2.81c.8-.78.8-2.07 0-2.86zM5.41 20L4 18.59l7.72-7.72 1.47 1.35L5.41 20z\"/>\n",
              "  </svg>\n",
              "      </button>\n",
              "      \n",
              "  <style>\n",
              "    .colab-df-container {\n",
              "      display:flex;\n",
              "      flex-wrap:wrap;\n",
              "      gap: 12px;\n",
              "    }\n",
              "\n",
              "    .colab-df-convert {\n",
              "      background-color: #E8F0FE;\n",
              "      border: none;\n",
              "      border-radius: 50%;\n",
              "      cursor: pointer;\n",
              "      display: none;\n",
              "      fill: #1967D2;\n",
              "      height: 32px;\n",
              "      padding: 0 0 0 0;\n",
              "      width: 32px;\n",
              "    }\n",
              "\n",
              "    .colab-df-convert:hover {\n",
              "      background-color: #E2EBFA;\n",
              "      box-shadow: 0px 1px 2px rgba(60, 64, 67, 0.3), 0px 1px 3px 1px rgba(60, 64, 67, 0.15);\n",
              "      fill: #174EA6;\n",
              "    }\n",
              "\n",
              "    [theme=dark] .colab-df-convert {\n",
              "      background-color: #3B4455;\n",
              "      fill: #D2E3FC;\n",
              "    }\n",
              "\n",
              "    [theme=dark] .colab-df-convert:hover {\n",
              "      background-color: #434B5C;\n",
              "      box-shadow: 0px 1px 3px 1px rgba(0, 0, 0, 0.15);\n",
              "      filter: drop-shadow(0px 1px 2px rgba(0, 0, 0, 0.3));\n",
              "      fill: #FFFFFF;\n",
              "    }\n",
              "  </style>\n",
              "\n",
              "      <script>\n",
              "        const buttonEl =\n",
              "          document.querySelector('#df-35438d53-69e6-4b02-be8d-325e5cd53e6c button.colab-df-convert');\n",
              "        buttonEl.style.display =\n",
              "          google.colab.kernel.accessAllowed ? 'block' : 'none';\n",
              "\n",
              "        async function convertToInteractive(key) {\n",
              "          const element = document.querySelector('#df-35438d53-69e6-4b02-be8d-325e5cd53e6c');\n",
              "          const dataTable =\n",
              "            await google.colab.kernel.invokeFunction('convertToInteractive',\n",
              "                                                     [key], {});\n",
              "          if (!dataTable) return;\n",
              "\n",
              "          const docLinkHtml = 'Like what you see? Visit the ' +\n",
              "            '<a target=\"_blank\" href=https://colab.research.google.com/notebooks/data_table.ipynb>data table notebook</a>'\n",
              "            + ' to learn more about interactive tables.';\n",
              "          element.innerHTML = '';\n",
              "          dataTable['output_type'] = 'display_data';\n",
              "          await google.colab.output.renderOutput(dataTable, element);\n",
              "          const docLink = document.createElement('div');\n",
              "          docLink.innerHTML = docLinkHtml;\n",
              "          element.appendChild(docLink);\n",
              "        }\n",
              "      </script>\n",
              "    </div>\n",
              "  </div>\n",
              "  "
            ]
          },
          "metadata": {},
          "execution_count": 55
        }
      ],
      "source": [
        "df_resutls=pd.DataFrame(df_results,columns=['classifier', 'train_score', 'training_time','train_f1_score','test_f1_score'])\n",
        "df_resutls\n"
      ]
    },
    {
      "cell_type": "markdown",
      "metadata": {
        "id": "nVI2yF3DbeQ-"
      },
      "source": [
        "# cross validation to avoid overfitting"
      ]
    },
    {
      "cell_type": "code",
      "execution_count": 56,
      "metadata": {
        "id": "cE4hSt6UVlcq"
      },
      "outputs": [],
      "source": [
        "# # # Use Cross-validation.\n",
        "from sklearn.model_selection import cross_val_score\n",
        "\n",
        "# Logistic Regression\n",
        "log_reg = LogisticRegression()\n",
        "log_scores = cross_val_score(log_reg, x_train_sc, y_train, cv=3)\n",
        "log_reg_mean = log_scores.mean()\n",
        "\n",
        "# # SVC\n",
        "svc_clf = SVC()\n",
        "svc_scores = cross_val_score(svc_clf, x_train_sc, y_train, cv=3)\n",
        "svc_mean = svc_scores.mean()\n",
        "\n",
        "# KNearestNeighbors\n",
        "knn_clf = KNeighborsClassifier()\n",
        "knn_scores = cross_val_score(knn_clf, x_train_sc, y_train, cv=3)\n",
        "knn_mean = knn_scores.mean()\n",
        "\n",
        "# Decision Tree\n",
        "tree_clf = tree.DecisionTreeClassifier()\n",
        "tree_scores = cross_val_score(tree_clf, x_train_sc, y_train, cv=3)\n",
        "tree_mean = tree_scores.mean()\n",
        "\n",
        "# # Gradient Boosting Classifier\n",
        "grad_clf = GradientBoostingClassifier()\n",
        "grad_scores = cross_val_score(grad_clf, x_train_sc, y_train, cv=3)\n",
        "grad_mean = grad_scores.mean()\n",
        "\n",
        "# Random Forest Classifier\n",
        "rand_clf = RandomForestClassifier(n_estimators=18)\n",
        "rand_scores = cross_val_score(rand_clf, x_train_sc, y_train, cv=3)\n",
        "rand_mean = rand_scores.mean()\n",
        "\n",
        "# NeuralNet Classifier\n",
        "neural_clf = MLPClassifier(alpha=1)\n",
        "neural_scores = cross_val_score(neural_clf, x_train_sc, y_train, cv=3)\n",
        "neural_mean = neural_scores.mean()\n",
        "\n",
        "# Naives Bayes\n",
        "nav_clf = GaussianNB()\n",
        "nav_scores = cross_val_score(nav_clf, x_train_sc, y_train, cv=3)\n",
        "nav_mean = nav_scores.mean()\n",
        "\n",
        "# Naives Bayes\n",
        "xgb_clf = GaussianNB()\n",
        "xgb_scores = cross_val_score(xgb_clf, x_train_sc, y_train, cv=3)\n",
        "xgb_mean = xgb_scores.mean()\n",
        "\n"
      ]
    },
    {
      "cell_type": "code",
      "execution_count": 57,
      "metadata": {
        "colab": {
          "base_uri": "https://localhost:8080/",
          "height": 332
        },
        "id": "geqZc_4qbbgO",
        "outputId": "806903d5-9b4b-4da7-8f95-b193a1e49cd4"
      },
      "outputs": [
        {
          "output_type": "execute_result",
          "data": {
            "text/plain": [
              "         Classifiers  Crossval Mean Scores\n",
              "6  Neural Classifier              0.905597\n",
              "4         Grad B CLF              0.905514\n",
              "1                SVC              0.902417\n",
              "5            Rand FC              0.901477\n",
              "0      Logistic Reg.              0.900730\n",
              "2                KNN              0.892462\n",
              "3           Dec Tree              0.877281\n",
              "7       Naives Bayes              0.852644\n",
              "8            XGB CLF              0.852644"
            ],
            "text/html": [
              "\n",
              "  <div id=\"df-f71827c3-0822-4865-bfce-be9c4888ea0f\">\n",
              "    <div class=\"colab-df-container\">\n",
              "      <div>\n",
              "<style scoped>\n",
              "    .dataframe tbody tr th:only-of-type {\n",
              "        vertical-align: middle;\n",
              "    }\n",
              "\n",
              "    .dataframe tbody tr th {\n",
              "        vertical-align: top;\n",
              "    }\n",
              "\n",
              "    .dataframe thead th {\n",
              "        text-align: right;\n",
              "    }\n",
              "</style>\n",
              "<table border=\"1\" class=\"dataframe\">\n",
              "  <thead>\n",
              "    <tr style=\"text-align: right;\">\n",
              "      <th></th>\n",
              "      <th>Classifiers</th>\n",
              "      <th>Crossval Mean Scores</th>\n",
              "    </tr>\n",
              "  </thead>\n",
              "  <tbody>\n",
              "    <tr>\n",
              "      <th>6</th>\n",
              "      <td>Neural Classifier</td>\n",
              "      <td>0.905597</td>\n",
              "    </tr>\n",
              "    <tr>\n",
              "      <th>4</th>\n",
              "      <td>Grad B CLF</td>\n",
              "      <td>0.905514</td>\n",
              "    </tr>\n",
              "    <tr>\n",
              "      <th>1</th>\n",
              "      <td>SVC</td>\n",
              "      <td>0.902417</td>\n",
              "    </tr>\n",
              "    <tr>\n",
              "      <th>5</th>\n",
              "      <td>Rand FC</td>\n",
              "      <td>0.901477</td>\n",
              "    </tr>\n",
              "    <tr>\n",
              "      <th>0</th>\n",
              "      <td>Logistic Reg.</td>\n",
              "      <td>0.900730</td>\n",
              "    </tr>\n",
              "    <tr>\n",
              "      <th>2</th>\n",
              "      <td>KNN</td>\n",
              "      <td>0.892462</td>\n",
              "    </tr>\n",
              "    <tr>\n",
              "      <th>3</th>\n",
              "      <td>Dec Tree</td>\n",
              "      <td>0.877281</td>\n",
              "    </tr>\n",
              "    <tr>\n",
              "      <th>7</th>\n",
              "      <td>Naives Bayes</td>\n",
              "      <td>0.852644</td>\n",
              "    </tr>\n",
              "    <tr>\n",
              "      <th>8</th>\n",
              "      <td>XGB CLF</td>\n",
              "      <td>0.852644</td>\n",
              "    </tr>\n",
              "  </tbody>\n",
              "</table>\n",
              "</div>\n",
              "      <button class=\"colab-df-convert\" onclick=\"convertToInteractive('df-f71827c3-0822-4865-bfce-be9c4888ea0f')\"\n",
              "              title=\"Convert this dataframe to an interactive table.\"\n",
              "              style=\"display:none;\">\n",
              "        \n",
              "  <svg xmlns=\"http://www.w3.org/2000/svg\" height=\"24px\"viewBox=\"0 0 24 24\"\n",
              "       width=\"24px\">\n",
              "    <path d=\"M0 0h24v24H0V0z\" fill=\"none\"/>\n",
              "    <path d=\"M18.56 5.44l.94 2.06.94-2.06 2.06-.94-2.06-.94-.94-2.06-.94 2.06-2.06.94zm-11 1L8.5 8.5l.94-2.06 2.06-.94-2.06-.94L8.5 2.5l-.94 2.06-2.06.94zm10 10l.94 2.06.94-2.06 2.06-.94-2.06-.94-.94-2.06-.94 2.06-2.06.94z\"/><path d=\"M17.41 7.96l-1.37-1.37c-.4-.4-.92-.59-1.43-.59-.52 0-1.04.2-1.43.59L10.3 9.45l-7.72 7.72c-.78.78-.78 2.05 0 2.83L4 21.41c.39.39.9.59 1.41.59.51 0 1.02-.2 1.41-.59l7.78-7.78 2.81-2.81c.8-.78.8-2.07 0-2.86zM5.41 20L4 18.59l7.72-7.72 1.47 1.35L5.41 20z\"/>\n",
              "  </svg>\n",
              "      </button>\n",
              "      \n",
              "  <style>\n",
              "    .colab-df-container {\n",
              "      display:flex;\n",
              "      flex-wrap:wrap;\n",
              "      gap: 12px;\n",
              "    }\n",
              "\n",
              "    .colab-df-convert {\n",
              "      background-color: #E8F0FE;\n",
              "      border: none;\n",
              "      border-radius: 50%;\n",
              "      cursor: pointer;\n",
              "      display: none;\n",
              "      fill: #1967D2;\n",
              "      height: 32px;\n",
              "      padding: 0 0 0 0;\n",
              "      width: 32px;\n",
              "    }\n",
              "\n",
              "    .colab-df-convert:hover {\n",
              "      background-color: #E2EBFA;\n",
              "      box-shadow: 0px 1px 2px rgba(60, 64, 67, 0.3), 0px 1px 3px 1px rgba(60, 64, 67, 0.15);\n",
              "      fill: #174EA6;\n",
              "    }\n",
              "\n",
              "    [theme=dark] .colab-df-convert {\n",
              "      background-color: #3B4455;\n",
              "      fill: #D2E3FC;\n",
              "    }\n",
              "\n",
              "    [theme=dark] .colab-df-convert:hover {\n",
              "      background-color: #434B5C;\n",
              "      box-shadow: 0px 1px 3px 1px rgba(0, 0, 0, 0.15);\n",
              "      filter: drop-shadow(0px 1px 2px rgba(0, 0, 0, 0.3));\n",
              "      fill: #FFFFFF;\n",
              "    }\n",
              "  </style>\n",
              "\n",
              "      <script>\n",
              "        const buttonEl =\n",
              "          document.querySelector('#df-f71827c3-0822-4865-bfce-be9c4888ea0f button.colab-df-convert');\n",
              "        buttonEl.style.display =\n",
              "          google.colab.kernel.accessAllowed ? 'block' : 'none';\n",
              "\n",
              "        async function convertToInteractive(key) {\n",
              "          const element = document.querySelector('#df-f71827c3-0822-4865-bfce-be9c4888ea0f');\n",
              "          const dataTable =\n",
              "            await google.colab.kernel.invokeFunction('convertToInteractive',\n",
              "                                                     [key], {});\n",
              "          if (!dataTable) return;\n",
              "\n",
              "          const docLinkHtml = 'Like what you see? Visit the ' +\n",
              "            '<a target=\"_blank\" href=https://colab.research.google.com/notebooks/data_table.ipynb>data table notebook</a>'\n",
              "            + ' to learn more about interactive tables.';\n",
              "          element.innerHTML = '';\n",
              "          dataTable['output_type'] = 'display_data';\n",
              "          await google.colab.output.renderOutput(dataTable, element);\n",
              "          const docLink = document.createElement('div');\n",
              "          docLink.innerHTML = docLinkHtml;\n",
              "          element.appendChild(docLink);\n",
              "        }\n",
              "      </script>\n",
              "    </div>\n",
              "  </div>\n",
              "  "
            ]
          },
          "metadata": {},
          "execution_count": 57
        }
      ],
      "source": [
        "# Create a Dataframe with the results.\n",
        "d = {'Classifiers': ['Logistic Reg.', 'SVC', 'KNN', 'Dec Tree', 'Grad B CLF', 'Rand FC', 'Neural Classifier', 'Naives Bayes','XGB CLF'], \n",
        "    'Crossval Mean Scores': [log_reg_mean, svc_mean, knn_mean, tree_mean, grad_mean, rand_mean, neural_mean, nav_mean, xgb_mean]}\n",
        "\n",
        "result_df = pd.DataFrame(data=d)\n",
        "result_df = result_df.sort_values(by=['Crossval Mean Scores'], ascending=False)\n",
        "result_df"
      ]
    },
    {
      "cell_type": "code",
      "execution_count": 58,
      "metadata": {
        "id": "WXfn10AebN35"
      },
      "outputs": [],
      "source": [
        "#INSTANCE\n",
        "from sklearn.model_selection import cross_val_score\n",
        "grad_clf = GradientBoostingClassifier()\n",
        "grad_scores = cross_val_score(grad_clf, x_train_sc, y_train, cv=3)\n",
        "grad_mean = grad_scores.mean()\n"
      ]
    },
    {
      "cell_type": "code",
      "execution_count": 59,
      "metadata": {
        "id": "Cs-J0zgHbbdy"
      },
      "outputs": [],
      "source": [
        "# Cross validate our Gradient Boosting Classifier\n",
        "from sklearn.model_selection import cross_val_predict\n",
        "y_train_pred = cross_val_predict(grad_clf, x_train_sc, y_train, cv=10)"
      ]
    },
    {
      "cell_type": "code",
      "execution_count": 60,
      "metadata": {
        "colab": {
          "base_uri": "https://localhost:8080/"
        },
        "id": "nAzJdewomQDk",
        "outputId": "babf0cbc-37c3-46b9-d9a3-88836dfd0509"
      },
      "outputs": [
        {
          "output_type": "stream",
          "name": "stdout",
          "text": [
            "Gradient Boost Classifier accuracy is 0.91\n"
          ]
        }
      ],
      "source": [
        "from sklearn.metrics import accuracy_score\n",
        "print (\"Gradient Boost Classifier accuracy is %2.2f\" % accuracy_score(y_train, y_train_pred))"
      ]
    },
    {
      "cell_type": "code",
      "execution_count": 61,
      "metadata": {
        "colab": {
          "base_uri": "https://localhost:8080/",
          "height": 536
        },
        "id": "mEIURJtabbaw",
        "outputId": "d30182a0-3045-4b2b-c98a-285ecf7ba5d3"
      },
      "outputs": [
        {
          "output_type": "display_data",
          "data": {
            "text/plain": [
              "<Figure size 864x576 with 2 Axes>"
            ],
            "image/png": "[encoded data removed]"
          },
          "metadata": {}
        }
      ],
      "source": [
        "#confusion matrix\n",
        "from sklearn.metrics import confusion_matrix\n",
        "\n",
        "conf_matrix = confusion_matrix(y_train, y_train_pred)\n",
        "f, ax = plt.subplots(figsize=(12, 8))\n",
        "sns.heatmap(conf_matrix, annot=True, fmt=\"d\", linewidths=.5, ax=ax)\n",
        "plt.title(\"Confusion Matrix\", fontsize=20)\n",
        "plt.subplots_adjust(left=0.15, right=0.99, bottom=0.15, top=0.99)\n",
        "ax.set_yticks(np.arange(conf_matrix.shape[0]) + 0.5, minor=False)\n",
        "ax.set_xticklabels(\"\")\n",
        "ax.set_yticklabels(['Refused T. Deposits', 'Accepted T. Deposits'], fontsize=16, rotation=360)\n",
        "plt.show()"
      ]
    },
    {
      "cell_type": "code",
      "execution_count": 76,
      "metadata": {
        "colab": {
          "base_uri": "https://localhost:8080/"
        },
        "id": "nATMGBjHbbX9",
        "outputId": "53cde985-9b90-438c-f9b6-8adfb83fb7d0"
      },
      "outputs": [
        {
          "output_type": "stream",
          "name": "stdout",
          "text": [
            "Precision Score:  0.6576475009394964\n",
            "The model is 65% sure that the potential client will suscribe to a term deposit. \n",
            "Recall Score:  0.4136138028834791\n",
            "The classifier only detects 41% of potential clients that will suscribe to a term deposit.\n"
          ]
        }
      ],
      "source": [
        "# Let's find the scores  for precision and recall.\n",
        "from sklearn.metrics import precision_score, recall_score\n",
        "print('Precision Score: ', precision_score(y_train, y_train_pred))\n",
        "print(\"The model is 65% sure that the potential client will suscribe to a term deposit. \")\n",
        "\n",
        "print('Recall Score: ', recall_score(y_train, y_train_pred))\n",
        "print(\"The classifier only detects 41% of potential clients that will suscribe to a term deposit.\")"
      ]
    },
    {
      "cell_type": "code",
      "execution_count": 63,
      "metadata": {
        "colab": {
          "base_uri": "https://localhost:8080/"
        },
        "id": "CiChP8kce7lt",
        "outputId": "bd4fba59-63b4-4e95-9c6c-24b484437695"
      },
      "outputs": [
        {
          "output_type": "execute_result",
          "data": {
            "text/plain": [
              "0.5078351712130006"
            ]
          },
          "metadata": {},
          "execution_count": 63
        }
      ],
      "source": [
        "from sklearn.metrics import f1_score\n",
        "\n",
        "f1_score(y_train, y_train_pred)"
      ]
    },
    {
      "cell_type": "code",
      "source": [
        "#macro f1 score\n",
        "from sklearn.metrics import f1_score\n",
        "\n",
        "f1_score(y_train, y_train_pred,average ='macro')"
      ],
      "metadata": {
        "colab": {
          "base_uri": "https://localhost:8080/"
        },
        "id": "dUPfroYvH1pY",
        "outputId": "60c51749-f8f0-4444-c07d-25070cabe62a"
      },
      "execution_count": 64,
      "outputs": [
        {
          "output_type": "execute_result",
          "data": {
            "text/plain": [
              "0.7279991309332318"
            ]
          },
          "metadata": {},
          "execution_count": 64
        }
      ]
    },
    {
      "cell_type": "code",
      "execution_count": 65,
      "metadata": {
        "colab": {
          "base_uri": "https://localhost:8080/"
        },
        "id": "YV18qEnfYQHj",
        "outputId": "e82811f0-82bb-4e7c-c90b-beaa8c3fb83c"
      },
      "outputs": [
        {
          "output_type": "execute_result",
          "data": {
            "text/plain": [
              "0.47406080732283046"
            ]
          },
          "metadata": {},
          "execution_count": 65
        }
      ],
      "source": [
        "from sklearn.metrics import matthews_corrcoef\n",
        "matthews_corrcoef(y_train, y_train_pred, sample_weight=None)"
      ]
    },
    {
      "cell_type": "code",
      "execution_count": 66,
      "metadata": {
        "id": "n8e42PlU2oCg"
      },
      "outputs": [],
      "source": [
        "grad_clf.fit(x_train_sc, y_train)\n",
        "y_test_pred= grad_clf.predict(x_test_sc)"
      ]
    },
    {
      "cell_type": "code",
      "execution_count": 67,
      "metadata": {
        "colab": {
          "base_uri": "https://localhost:8080/",
          "height": 536
        },
        "id": "dKsd4hyp5jOO",
        "outputId": "01cfc7ae-0b08-4f72-8946-b90fbad6c1f2"
      },
      "outputs": [
        {
          "output_type": "display_data",
          "data": {
            "text/plain": [
              "<Figure size 864x576 with 2 Axes>"
            ],
            "image/png": "[encoded data removed]"
          },
          "metadata": {}
        }
      ],
      "source": [
        "from sklearn.metrics import confusion_matrix\n",
        "\n",
        "conf_matrix = confusion_matrix(y_test, y_test_pred)\n",
        "f, ax = plt.subplots(figsize=(12, 8))\n",
        "sns.heatmap(conf_matrix, annot=True, fmt=\"d\", linewidths=.5, ax=ax)\n",
        "plt.title(\"Confusion Matrix\", fontsize=20)\n",
        "plt.subplots_adjust(left=0.15, right=0.99, bottom=0.15, top=0.99)\n",
        "ax.set_yticks(np.arange(conf_matrix.shape[0]) + 0.5, minor=False)\n",
        "ax.set_xticklabels(\"\")\n",
        "ax.set_yticklabels(['Refused T. Deposits', 'Accepted T. Deposits'], fontsize=16, rotation=360)\n",
        "plt.show()"
      ]
    },
    {
      "cell_type": "code",
      "execution_count": 73,
      "metadata": {
        "colab": {
          "base_uri": "https://localhost:8080/"
        },
        "id": "Df31BflLVZze",
        "outputId": "56fc0292-51b6-4fa9-d43d-50dc0c36312c"
      },
      "outputs": [
        {
          "output_type": "stream",
          "name": "stdout",
          "text": [
            "Precision Score:  0.6858552631578947\n",
            "The model is 68% sure that the potential client will suscribe to a term deposit.\n",
            "Recall Score:  0.3941398865784499\n",
            "The classifier only detects 39% of potential clients that will suscribe to a term deposit.\n"
          ]
        }
      ],
      "source": [
        "y_test_pred= grad_clf.predict(x_test_sc)\n",
        "# Let's find the scores  for precision and recall.\n",
        "from sklearn.metrics import precision_score, recall_score\n",
        "print('Precision Score: ', precision_score(y_test, y_test_pred))\n",
        "print( \"The model is 68% sure that the potential client will suscribe to a term deposit.\")\n",
        "print('Recall Score: ', recall_score(y_test, y_test_pred))\n",
        "print(\"The classifier only detects 39% of potential clients that will suscribe to a term deposit.\")"
      ]
    },
    {
      "cell_type": "code",
      "execution_count": 74,
      "metadata": {
        "colab": {
          "base_uri": "https://localhost:8080/"
        },
        "id": "Q6YtDtbLXpY_",
        "outputId": "b9f1cb76-f268-4b73-f8d2-78fad18ce2e9"
      },
      "outputs": [
        {
          "output_type": "execute_result",
          "data": {
            "text/plain": [
              "0.5006002400960385"
            ]
          },
          "metadata": {},
          "execution_count": 74
        }
      ],
      "source": [
        "from sklearn.metrics import f1_score\n",
        "f1_score(y_test, y_test_pred)"
      ]
    },
    {
      "cell_type": "code",
      "execution_count": 75,
      "metadata": {
        "colab": {
          "base_uri": "https://localhost:8080/"
        },
        "id": "Dzx8_NbkY7KN",
        "outputId": "1ff249ab-17fe-4ac1-acbd-759135127f53"
      },
      "outputs": [
        {
          "output_type": "execute_result",
          "data": {
            "text/plain": [
              "0.47516113957601586"
            ]
          },
          "metadata": {},
          "execution_count": 75
        }
      ],
      "source": [
        "from sklearn.metrics import matthews_corrcoef\n",
        "matthews_corrcoef(y_test, y_test_pred, sample_weight=None)"
      ]
    },
    {
      "cell_type": "markdown",
      "metadata": {
        "id": "GxNir-yLD9wY"
      },
      "source": [
        "# Handling imbalanced target variable using SMOTE"
      ]
    },
    {
      "cell_type": "code",
      "execution_count": 77,
      "metadata": {
        "colab": {
          "base_uri": "https://localhost:8080/"
        },
        "id": "vrEd9zztENRB",
        "outputId": "7564ba88-8158-4115-c433-23f66281c82a"
      },
      "outputs": [
        {
          "output_type": "stream",
          "name": "stdout",
          "text": [
            "Requirement already satisfied: imblearn in /usr/local/lib/python3.7/dist-packages (0.0)\n",
            "Requirement already satisfied: imbalanced-learn in /usr/local/lib/python3.7/dist-packages (from imblearn) (0.8.1)\n",
            "Requirement already satisfied: numpy>=1.13.3 in /usr/local/lib/python3.7/dist-packages (from imbalanced-learn->imblearn) (1.21.5)\n",
            "Requirement already satisfied: joblib>=0.11 in /usr/local/lib/python3.7/dist-packages (from imbalanced-learn->imblearn) (1.1.0)\n",
            "Requirement already satisfied: scipy>=0.19.1 in /usr/local/lib/python3.7/dist-packages (from imbalanced-learn->imblearn) (1.4.1)\n",
            "Requirement already satisfied: scikit-learn>=0.24 in /usr/local/lib/python3.7/dist-packages (from imbalanced-learn->imblearn) (1.0.2)\n",
            "Requirement already satisfied: threadpoolctl>=2.0.0 in /usr/local/lib/python3.7/dist-packages (from scikit-learn>=0.24->imbalanced-learn->imblearn) (3.1.0)\n"
          ]
        }
      ],
      "source": [
        "pip install imblearn "
      ]
    },
    {
      "cell_type": "code",
      "execution_count": 78,
      "metadata": {
        "id": "pO24cvwzEU-R"
      },
      "outputs": [],
      "source": [
        "from imblearn.over_sampling import SMOTE"
      ]
    },
    {
      "cell_type": "code",
      "execution_count": 79,
      "metadata": {
        "colab": {
          "base_uri": "https://localhost:8080/"
        },
        "id": "w0Iw085ZvNTQ",
        "outputId": "e1cef346-e830-42a4-e407-1c11cc63994d"
      },
      "outputs": [
        {
          "output_type": "stream",
          "name": "stdout",
          "text": [
            "Before OverSampling, counts of label '1': 5289\n",
            "Before OverSampling, counts of label '0': 39917 \n",
            "\n",
            "After OverSampling, the shape of train_X: (79834, 48)\n",
            "After OverSampling, the shape of train_y: (79834,) \n",
            "\n",
            "After OverSampling, counts of label '1': 39917\n",
            "After OverSampling, counts of label '0': 39917\n"
          ]
        }
      ],
      "source": [
        "# import SMOTE module from imblearn library\n",
        "# pip install imblearn (if you don't have imblearn in your system)\n",
        "print(\"Before OverSampling, counts of label '1': {}\".format(sum(df1['y'] == 1)))\n",
        "print(\"Before OverSampling, counts of label '0': {} \\n\".format(sum(df1['y'] == 0)))\n",
        "\n",
        "from imblearn.over_sampling import SMOTE\n",
        "sm = SMOTE(random_state = 2)\n",
        "x_train_smote, y_train_smote = sm.fit_resample(df1.loc[:, df1.columns != 'y'], df1['y'])\n",
        "  \n",
        "print('After OverSampling, the shape of train_X: {}'.format(x_train_smote.shape))\n",
        "print('After OverSampling, the shape of train_y: {} \\n'.format(y_train_smote.shape))\n",
        "  \n",
        "print(\"After OverSampling, counts of label '1': {}\".format(sum(y_train_smote == 1)))\n",
        "print(\"After OverSampling, counts of label '0': {}\".format(sum(y_train_smote == 0)))"
      ]
    },
    {
      "cell_type": "code",
      "execution_count": 83,
      "metadata": {
        "id": "e9pS0m8Cc83r"
      },
      "outputs": [],
      "source": [
        "#Scaling the data\n",
        "from sklearn.preprocessing import StandardScaler\n",
        "xX_train_smote_sc = StandardScaler().fit_transform(x_train_smote)\n"
      ]
    },
    {
      "cell_type": "code",
      "execution_count": 84,
      "metadata": {
        "id": "9Fwu7MBac83s"
      },
      "outputs": [],
      "source": [
        "#Splitting Data into train and test\n",
        "from sklearn.model_selection import train_test_split\n",
        "xx_train_smote, xx_test_smote, yy_train_smote, yy_test_smote = train_test_split(x_train_smote_sc, y_train_smote, test_size = 0.2, random_state = 3)"
      ]
    },
    {
      "cell_type": "code",
      "source": [
        "yy_train_smote"
      ],
      "metadata": {
        "colab": {
          "base_uri": "https://localhost:8080/"
        },
        "id": "WdG75zKCc-6U",
        "outputId": "11010374-927f-4ad4-f345-b6354f7e0fc2"
      },
      "execution_count": 85,
      "outputs": [
        {
          "output_type": "execute_result",
          "data": {
            "text/plain": [
              "59096    1\n",
              "77019    1\n",
              "44531    1\n",
              "9927     0\n",
              "61204    1\n",
              "        ..\n",
              "48056    1\n",
              "59011    1\n",
              "77049    1\n",
              "67224    1\n",
              "71530    1\n",
              "Name: y, Length: 63867, dtype: int64"
            ]
          },
          "metadata": {},
          "execution_count": 85
        }
      ]
    },
    {
      "cell_type": "markdown",
      "source": [
        "# hyper parameter tunning"
      ],
      "metadata": {
        "id": "qQHhbJ7aTbGQ"
      }
    },
    {
      "cell_type": "code",
      "source": [
        "#hyperparameters\n",
        "# gbc = GradientBoostingClassifier(random_state = 42)\n",
        "# parameters = {\n",
        "    # \"n_estimators\":[50,250,500],\n",
        "    # \"max_depth\":[3,5,9],\n",
        "    # 'min_samples_split':[200,500],'min_samples_leaf':[50,100],max_features:['auto', 'sqrt', 'log2']}"
      ],
      "metadata": {
        "id": "iHCb9ZNHu350"
      },
      "execution_count": 86,
      "outputs": []
    },
    {
      "cell_type": "code",
      "source": [
        "# #hyperparameter tuning using GridSearchCV\n",
        "# clf = GridSearchCV(gbc, parameters,scoring=f1_score,cv=5, n_jobs=-1,verbose=10)\n",
        "\n",
        "# clf.fit(xx_train_smote, yy_train_smote)\n",
        "# clf.best_estimator_\n",
        "\n",
        "\n",
        "# This hyperparameter tunning section takes very high time so we have already ran it and collected best performing parameter values and used in below code"
      ],
      "metadata": {
        "id": "QYqYhRI1ut9-"
      },
      "execution_count": 87,
      "outputs": []
    },
    {
      "cell_type": "code",
      "execution_count": 88,
      "metadata": {
        "id": "-AW5W_EOu6PN"
      },
      "outputs": [],
      "source": [
        "# # Gradient Boosting Classifier\n",
        "grad_clf = GradientBoostingClassifier(n_estimators=40)\n",
        "grad_scores = cross_val_score(grad_clf, xx_train_smote, yy_train_smote, cv=3)\n",
        "grad_mean = grad_scores.mean()"
      ]
    },
    {
      "cell_type": "code",
      "execution_count": 90,
      "metadata": {
        "id": "GR-YEkCxuhFR"
      },
      "outputs": [],
      "source": [
        "# Cross validate our Gradient Boosting Classifier\n",
        "from sklearn.model_selection import cross_val_predict\n",
        "y_train_smote_pred = cross_val_predict(grad_clf,xx_train_smote, yy_train_smote , cv=5)\n",
        "y_test_smote_pred = cross_val_predict(grad_clf,xx_test_smote, yy_test_smote , cv=5)"
      ]
    },
    {
      "cell_type": "code",
      "execution_count": 91,
      "metadata": {
        "id": "V54wgUapuhC_",
        "colab": {
          "base_uri": "https://localhost:8080/"
        },
        "outputId": "8ad33af5-9ace-4e44-a9c7-64b4746bfc7f"
      },
      "outputs": [
        {
          "output_type": "stream",
          "name": "stdout",
          "text": [
            "Gradient Boost Classifier accuracy is 0.92\n"
          ]
        }
      ],
      "source": [
        "from sklearn.metrics import accuracy_score\n",
        "print (\"Gradient Boost Classifier accuracy is %2.2f\" % accuracy_score(yy_train_smote, y_train_smote_pred))"
      ]
    },
    {
      "cell_type": "code",
      "execution_count": 92,
      "metadata": {
        "id": "pJG6jwu7FKTV",
        "colab": {
          "base_uri": "https://localhost:8080/",
          "height": 536
        },
        "outputId": "4f016fe1-493f-421c-d770-cf7de98a4689"
      },
      "outputs": [
        {
          "output_type": "display_data",
          "data": {
            "text/plain": [
              "<Figure size 864x576 with 2 Axes>"
            ],
            "image/png": "[encoded data removed]"
          },
          "metadata": {}
        }
      ],
      "source": [
        "from sklearn.metrics import confusion_matrix\n",
        "conf_matrix = confusion_matrix(yy_train_smote,y_train_smote_pred )\n",
        "f, ax = plt.subplots(figsize=(12, 8))\n",
        "sns.heatmap(conf_matrix, annot=True, fmt=\"d\", linewidths=.5, ax=ax)\n",
        "plt.title(\"Confusion Matrix\", fontsize=20)\n",
        "plt.subplots_adjust(left=0.15, right=0.99, bottom=0.15, top=0.99)\n",
        "ax.set_yticks(np.arange(conf_matrix.shape[0]) + 0.5, minor=False)\n",
        "ax.set_xticklabels(\"\")\n",
        "ax.set_yticklabels(['Refused T. Deposits', 'Accepted T. Deposits'], fontsize=16, rotation=360)\n",
        "plt.show()"
      ]
    },
    {
      "cell_type": "code",
      "execution_count": 94,
      "metadata": {
        "id": "uF9XLWmiFnsR",
        "colab": {
          "base_uri": "https://localhost:8080/"
        },
        "outputId": "ba4db97f-2f34-45cd-e872-3a2797f9ba17"
      },
      "outputs": [
        {
          "output_type": "stream",
          "name": "stdout",
          "text": [
            "Precision Score:  0.916420300566642\n",
            "The model is 92% sure that the potential client will suscribe to a term deposit. \n",
            "Recall Score:  0.9321805594712277\n",
            "The classifier only detects 93% of potential clients that will suscribe to a term deposit.\n"
          ]
        }
      ],
      "source": [
        "# Let's find the scores  for precision and recall.\n",
        "from sklearn.metrics import precision_score, recall_score\n",
        "\n",
        "print('Precision Score: ', precision_score(yy_train_smote, y_train_smote_pred))\n",
        "print(\"The model is 92% sure that the potential client will suscribe to a term deposit. \")\n",
        "\n",
        "print('Recall Score: ', recall_score(yy_train_smote,y_train_smote_pred ))\n",
        "print(\"The classifier only detects 93% of potential clients that will suscribe to a term deposit.\")"
      ]
    },
    {
      "cell_type": "code",
      "execution_count": 95,
      "metadata": {
        "id": "6cCTO_k3FnpZ",
        "colab": {
          "base_uri": "https://localhost:8080/"
        },
        "outputId": "4832987c-d4fd-4a9a-d3d0-f005294e8a3c"
      },
      "outputs": [
        {
          "output_type": "execute_result",
          "data": {
            "text/plain": [
              "0.9242332479229755"
            ]
          },
          "metadata": {},
          "execution_count": 95
        }
      ],
      "source": [
        "from sklearn.metrics import f1_score\n",
        "f1_score(yy_train_smote, y_train_smote_pred)"
      ]
    },
    {
      "cell_type": "code",
      "execution_count": 97,
      "metadata": {
        "id": "xu4eB_DYWRtf",
        "colab": {
          "base_uri": "https://localhost:8080/"
        },
        "outputId": "79704ea8-7dfd-4ad0-e389-fbe95440f71d"
      },
      "outputs": [
        {
          "output_type": "execute_result",
          "data": {
            "text/plain": [
              "0.8473398176828777"
            ]
          },
          "metadata": {},
          "execution_count": 97
        }
      ],
      "source": [
        "from sklearn.metrics import matthews_corrcoef\n",
        "matthews_corrcoef(yy_train_smote, y_train_smote_pred, sample_weight=None)"
      ]
    },
    {
      "cell_type": "markdown",
      "metadata": {
        "id": "oUqRtv_LZ30r"
      },
      "source": [
        "Test dataset"
      ]
    },
    {
      "cell_type": "code",
      "execution_count": 98,
      "metadata": {
        "id": "qgMBh926-zD6",
        "colab": {
          "base_uri": "https://localhost:8080/"
        },
        "outputId": "705f0012-da6b-45af-fa3f-c446418a49d0"
      },
      "outputs": [
        {
          "output_type": "execute_result",
          "data": {
            "text/plain": [
              "GradientBoostingClassifier(n_estimators=40)"
            ]
          },
          "metadata": {},
          "execution_count": 98
        }
      ],
      "source": [
        "grad_clf.fit(xx_train_smote, yy_train_smote)"
      ]
    },
    {
      "cell_type": "code",
      "execution_count": 99,
      "metadata": {
        "id": "7JngaiR2-yru",
        "colab": {
          "base_uri": "https://localhost:8080/",
          "height": 536
        },
        "outputId": "33da882d-bfb6-44e4-bf82-9f0dd2ed67d0"
      },
      "outputs": [
        {
          "output_type": "display_data",
          "data": {
            "text/plain": [
              "<Figure size 864x576 with 2 Axes>"
            ],
            "image/png": "[encoded data removed]"
          },
          "metadata": {}
        }
      ],
      "source": [
        "from sklearn.metrics import confusion_matrix\n",
        "conf_matrix = confusion_matrix(yy_test_smote,y_test_smote_pred )\n",
        "f, ax = plt.subplots(figsize=(12, 8))\n",
        "sns.heatmap(conf_matrix, annot=True, fmt=\"d\", linewidths=.5, ax=ax)\n",
        "plt.title(\"Confusion Matrix\", fontsize=20)\n",
        "plt.subplots_adjust(left=0.15, right=0.99, bottom=0.15, top=0.99)\n",
        "ax.set_yticks(np.arange(conf_matrix.shape[0]) + 0.5, minor=False)\n",
        "ax.set_xticklabels(\"\")\n",
        "ax.set_yticklabels(['Refused T. Deposits', 'Accepted T. Deposits'], fontsize=16, rotation=360)\n",
        "plt.show()"
      ]
    },
    {
      "cell_type": "code",
      "execution_count": 100,
      "metadata": {
        "id": "n6y7FdokZ2gu",
        "colab": {
          "base_uri": "https://localhost:8080/"
        },
        "outputId": "c9f2dbf1-9bba-49b0-fafa-3a6247fb0319"
      },
      "outputs": [
        {
          "output_type": "stream",
          "name": "stdout",
          "text": [
            "Precision Score:  0.9187748015873016\n",
            "The model is 91% sure that the potential client will suscribe to a term deposit. \n",
            "Recall Score:  0.9268201150863148\n",
            "The classifier only detects 92% of potential clients that will suscribe to a term deposit.\n"
          ]
        }
      ],
      "source": [
        "#grad_clf.fit(xx_train_smote, yy_train_smote)\n",
        "y_test_smote_pred= grad_clf.predict(xx_test_smote)\n",
        "# Let's find the scores  for precision and recall.\n",
        "from sklearn.metrics import precision_score, recall_score\n",
        "\n",
        "print('Precision Score: ', precision_score(yy_test_smote, y_test_smote_pred))\n",
        "print(\"The model is 91% sure that the potential client will suscribe to a term deposit. \")\n",
        "\n",
        "print('Recall Score: ', recall_score(yy_test_smote, y_test_smote_pred))\n",
        "print(\"The classifier only detects 92% of potential clients that will suscribe to a term deposit.\")"
      ]
    },
    {
      "cell_type": "code",
      "execution_count": 101,
      "metadata": {
        "id": "Ffz3d6N6Z2gv",
        "colab": {
          "base_uri": "https://localhost:8080/"
        },
        "outputId": "acc3098e-7e89-4e12-d713-f7ae6bf7aad4"
      },
      "outputs": [
        {
          "output_type": "execute_result",
          "data": {
            "text/plain": [
              "0.9227799227799228"
            ]
          },
          "metadata": {},
          "execution_count": 101
        }
      ],
      "source": [
        "from sklearn.metrics import f1_score\n",
        "f1_score(yy_test_smote, y_test_smote_pred)"
      ]
    },
    {
      "cell_type": "code",
      "execution_count": 103,
      "metadata": {
        "id": "Dlp5c-LFWdqg",
        "colab": {
          "base_uri": "https://localhost:8080/"
        },
        "outputId": "3a138bd8-cdbd-4f52-cf74-6d6d2dc3b8c7"
      },
      "outputs": [
        {
          "output_type": "execute_result",
          "data": {
            "text/plain": [
              "0.8447100637904493"
            ]
          },
          "metadata": {},
          "execution_count": 103
        }
      ],
      "source": [
        "from sklearn.metrics import matthews_corrcoef\n",
        "matthews_corrcoef(yy_test_smote, y_test_smote_pred, sample_weight=None)"
      ]
    },
    {
      "cell_type": "code",
      "source": [
        ""
      ],
      "metadata": {
        "id": "tLLF5ryGM9be"
      },
      "execution_count": 103,
      "outputs": []
    }
  ]
}